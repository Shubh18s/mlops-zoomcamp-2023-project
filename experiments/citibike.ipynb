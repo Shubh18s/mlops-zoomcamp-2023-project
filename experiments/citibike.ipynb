{
 "cells": [
  {
   "cell_type": "code",
   "execution_count": 1,
   "metadata": {},
   "outputs": [],
   "source": [
    "import pandas as pd\n",
    "import seaborn as sns\n",
    "import matplotlib.pyplot as plt\n",
    "# from tqdm import tqdm\n",
    "# !pip install haversine\n",
    "# from haversine import haversine\n",
    "from sklearn.feature_extraction import DictVectorizer\n",
    "from sklearn.linear_model import LinearRegression, Lasso, Ridge\n",
    "from sklearn.metrics import mean_squared_error\n",
    "\n",
    "from math import radians, sin, cos, acos, pi, atan2, sqrt"
   ]
  },
  {
   "cell_type": "code",
   "execution_count": 2,
   "metadata": {},
   "outputs": [],
   "source": [
    "# for i in tqdm(range(10000)):\n",
    "#     pass"
   ]
  },
  {
   "cell_type": "code",
   "execution_count": 3,
   "metadata": {},
   "outputs": [
    {
     "name": "stdout",
     "output_type": "stream",
     "text": [
      "Python 3.10.9\n"
     ]
    }
   ],
   "source": [
    "!python -V"
   ]
  },
  {
   "cell_type": "code",
   "execution_count": 4,
   "metadata": {},
   "outputs": [],
   "source": [
    "def deg2rad(deg):\n",
    "  return (deg * (pi/180))\n",
    "  \n",
    "def getDistanceFromLatLonInKm(lat1,lon1,lat2,lon2):\n",
    "    R = 6371 # Radius of the earth in km 3963 for miles 6371 for kms\n",
    "    dLat = deg2rad(lat2-lat1) # deg2rad below\n",
    "    dLon = deg2rad(lon2-lon1) \n",
    "    a = sin(dLat/2) * sin(dLat/2) + cos(deg2rad(lat1)) * cos(deg2rad(lat2)) * sin(dLon/2) * sin(dLon/2)\n",
    "    c = 2 * atan2(sqrt(a), sqrt(1-a))\n",
    "    d = R * c # Distance in km\n",
    "    # d = haversine((lat1, lon1), (lat2, lon2), unit='km')\n",
    "    return d"
   ]
  },
  {
   "cell_type": "code",
   "execution_count": 5,
   "metadata": {},
   "outputs": [],
   "source": [
    "def read_dataframe(file):\n",
    "    df = pd.read_csv(file)\n",
    "    \n",
    "    df.dropna(inplace=True)\n",
    "    # df = df[['ride_id', 'rideable_type', 'started_at', 'ended_at', 'start_station_name', 'start_station_id', 'end_station_name', 'end_station_id', 'member_casual', 'start_lat', 'start_lng', 'end_lat', 'end_lng']]\n",
    "    \n",
    "    df['started_at'] = pd.to_datetime(df['started_at'])\n",
    "    df['ended_at'] = pd.to_datetime(df['ended_at'])\n",
    "\n",
    "    df['distance']  = df.apply(lambda row: getDistanceFromLatLonInKm(row['start_lat'],row['start_lng'],row['end_lat'],row['end_lng']),axis=1)\n",
    "    df['duration'] = df.ended_at - df.started_at\n",
    "    df.duration = df.duration.apply(lambda td: td.total_seconds()/60)\n",
    "    df['hour_of_day'] = df.started_at.dt.hour\n",
    "    df['day_of_week'] = df.started_at.dt.day_of_week\n",
    "    df = df[(df.duration >= 1) & (df.duration <= 20) ].copy() #& (df.hour_of_day >= 5)\n",
    "\n",
    "    return df"
   ]
  },
  {
   "cell_type": "code",
   "execution_count": 6,
   "metadata": {},
   "outputs": [],
   "source": [
    "# train_df = read_dataframe(\"./data/202305-citibike-tripdata.csv\")\n",
    "# val_df = read_dataframe(\"./data/202304-citibike-tripdata.csv\")\n",
    "train_df = read_dataframe(\"./data/JC-202305-citibike-tripdata.csv\")\n",
    "val_df = read_dataframe(\"./data/JC-202304-citibike-tripdata.csv\")"
   ]
  },
  {
   "cell_type": "code",
   "execution_count": 7,
   "metadata": {},
   "outputs": [
    {
     "name": "stdout",
     "output_type": "stream",
     "text": [
      "<class 'pandas.core.frame.DataFrame'>\n",
      "Index: 82741 entries, 0 to 96001\n",
      "Data columns (total 17 columns):\n",
      " #   Column              Non-Null Count  Dtype         \n",
      "---  ------              --------------  -----         \n",
      " 0   ride_id             82741 non-null  object        \n",
      " 1   rideable_type       82741 non-null  object        \n",
      " 2   started_at          82741 non-null  datetime64[ns]\n",
      " 3   ended_at            82741 non-null  datetime64[ns]\n",
      " 4   start_station_name  82741 non-null  object        \n",
      " 5   start_station_id    82741 non-null  object        \n",
      " 6   end_station_name    82741 non-null  object        \n",
      " 7   end_station_id      82741 non-null  object        \n",
      " 8   start_lat           82741 non-null  float64       \n",
      " 9   start_lng           82741 non-null  float64       \n",
      " 10  end_lat             82741 non-null  float64       \n",
      " 11  end_lng             82741 non-null  float64       \n",
      " 12  member_casual       82741 non-null  object        \n",
      " 13  distance            82741 non-null  float64       \n",
      " 14  duration            82741 non-null  float64       \n",
      " 15  hour_of_day         82741 non-null  int32         \n",
      " 16  day_of_week         82741 non-null  int32         \n",
      "dtypes: datetime64[ns](2), float64(6), int32(2), object(7)\n",
      "memory usage: 10.7+ MB\n"
     ]
    }
   ],
   "source": [
    "train_df.info()"
   ]
  },
  {
   "cell_type": "code",
   "execution_count": 8,
   "metadata": {},
   "outputs": [
    {
     "data": {
      "text/html": [
       "<div>\n",
       "<style scoped>\n",
       "    .dataframe tbody tr th:only-of-type {\n",
       "        vertical-align: middle;\n",
       "    }\n",
       "\n",
       "    .dataframe tbody tr th {\n",
       "        vertical-align: top;\n",
       "    }\n",
       "\n",
       "    .dataframe thead th {\n",
       "        text-align: right;\n",
       "    }\n",
       "</style>\n",
       "<table border=\"1\" class=\"dataframe\">\n",
       "  <thead>\n",
       "    <tr style=\"text-align: right;\">\n",
       "      <th></th>\n",
       "      <th>ride_id</th>\n",
       "      <th>rideable_type</th>\n",
       "      <th>started_at</th>\n",
       "      <th>ended_at</th>\n",
       "      <th>start_station_name</th>\n",
       "      <th>start_station_id</th>\n",
       "      <th>end_station_name</th>\n",
       "      <th>end_station_id</th>\n",
       "      <th>start_lat</th>\n",
       "      <th>start_lng</th>\n",
       "      <th>end_lat</th>\n",
       "      <th>end_lng</th>\n",
       "      <th>member_casual</th>\n",
       "      <th>distance</th>\n",
       "      <th>duration</th>\n",
       "      <th>hour_of_day</th>\n",
       "      <th>day_of_week</th>\n",
       "    </tr>\n",
       "  </thead>\n",
       "  <tbody>\n",
       "    <tr>\n",
       "      <th>0</th>\n",
       "      <td>BC145343639B5E5B</td>\n",
       "      <td>classic_bike</td>\n",
       "      <td>2023-05-31 12:27:28</td>\n",
       "      <td>2023-05-31 12:38:36</td>\n",
       "      <td>Pershing Field</td>\n",
       "      <td>JC024</td>\n",
       "      <td>Newport PATH</td>\n",
       "      <td>JC066</td>\n",
       "      <td>40.742675</td>\n",
       "      <td>-74.051806</td>\n",
       "      <td>40.727224</td>\n",
       "      <td>-74.033759</td>\n",
       "      <td>member</td>\n",
       "      <td>2.294339</td>\n",
       "      <td>11.133333</td>\n",
       "      <td>12</td>\n",
       "      <td>2</td>\n",
       "    </tr>\n",
       "    <tr>\n",
       "      <th>1</th>\n",
       "      <td>A0CE41F47514FF5C</td>\n",
       "      <td>classic_bike</td>\n",
       "      <td>2023-05-01 18:12:37</td>\n",
       "      <td>2023-05-01 18:29:03</td>\n",
       "      <td>Pershing Field</td>\n",
       "      <td>JC024</td>\n",
       "      <td>Baldwin at Montgomery</td>\n",
       "      <td>JC020</td>\n",
       "      <td>40.742638</td>\n",
       "      <td>-74.051815</td>\n",
       "      <td>40.723659</td>\n",
       "      <td>-74.064194</td>\n",
       "      <td>casual</td>\n",
       "      <td>2.354073</td>\n",
       "      <td>16.433333</td>\n",
       "      <td>18</td>\n",
       "      <td>0</td>\n",
       "    </tr>\n",
       "    <tr>\n",
       "      <th>3</th>\n",
       "      <td>89AC48A5584B2DB4</td>\n",
       "      <td>classic_bike</td>\n",
       "      <td>2023-05-27 21:01:37</td>\n",
       "      <td>2023-05-27 21:13:16</td>\n",
       "      <td>Pershing Field</td>\n",
       "      <td>JC024</td>\n",
       "      <td>Manila &amp; 1st</td>\n",
       "      <td>JC082</td>\n",
       "      <td>40.742677</td>\n",
       "      <td>-74.051789</td>\n",
       "      <td>40.721651</td>\n",
       "      <td>-74.042884</td>\n",
       "      <td>member</td>\n",
       "      <td>2.455469</td>\n",
       "      <td>11.650000</td>\n",
       "      <td>21</td>\n",
       "      <td>5</td>\n",
       "    </tr>\n",
       "    <tr>\n",
       "      <th>5</th>\n",
       "      <td>E5CB0D91D77D7ABC</td>\n",
       "      <td>classic_bike</td>\n",
       "      <td>2023-05-29 18:31:14</td>\n",
       "      <td>2023-05-29 18:36:40</td>\n",
       "      <td>Hilltop</td>\n",
       "      <td>JC019</td>\n",
       "      <td>Brunswick St</td>\n",
       "      <td>JC023</td>\n",
       "      <td>40.731169</td>\n",
       "      <td>-74.057574</td>\n",
       "      <td>40.724176</td>\n",
       "      <td>-74.050656</td>\n",
       "      <td>member</td>\n",
       "      <td>0.971745</td>\n",
       "      <td>5.433333</td>\n",
       "      <td>18</td>\n",
       "      <td>0</td>\n",
       "    </tr>\n",
       "    <tr>\n",
       "      <th>6</th>\n",
       "      <td>182ECD0410DCC11D</td>\n",
       "      <td>electric_bike</td>\n",
       "      <td>2023-05-07 12:30:42</td>\n",
       "      <td>2023-05-07 12:37:35</td>\n",
       "      <td>Hilltop</td>\n",
       "      <td>JC019</td>\n",
       "      <td>Hamilton Park</td>\n",
       "      <td>JC009</td>\n",
       "      <td>40.731169</td>\n",
       "      <td>-74.057574</td>\n",
       "      <td>40.727596</td>\n",
       "      <td>-74.044247</td>\n",
       "      <td>member</td>\n",
       "      <td>1.191130</td>\n",
       "      <td>6.883333</td>\n",
       "      <td>12</td>\n",
       "      <td>6</td>\n",
       "    </tr>\n",
       "  </tbody>\n",
       "</table>\n",
       "</div>"
      ],
      "text/plain": [
       "            ride_id  rideable_type          started_at            ended_at  \\\n",
       "0  BC145343639B5E5B   classic_bike 2023-05-31 12:27:28 2023-05-31 12:38:36   \n",
       "1  A0CE41F47514FF5C   classic_bike 2023-05-01 18:12:37 2023-05-01 18:29:03   \n",
       "3  89AC48A5584B2DB4   classic_bike 2023-05-27 21:01:37 2023-05-27 21:13:16   \n",
       "5  E5CB0D91D77D7ABC   classic_bike 2023-05-29 18:31:14 2023-05-29 18:36:40   \n",
       "6  182ECD0410DCC11D  electric_bike 2023-05-07 12:30:42 2023-05-07 12:37:35   \n",
       "\n",
       "  start_station_name start_station_id       end_station_name end_station_id  \\\n",
       "0     Pershing Field            JC024           Newport PATH          JC066   \n",
       "1     Pershing Field            JC024  Baldwin at Montgomery          JC020   \n",
       "3     Pershing Field            JC024           Manila & 1st          JC082   \n",
       "5            Hilltop            JC019           Brunswick St          JC023   \n",
       "6            Hilltop            JC019          Hamilton Park          JC009   \n",
       "\n",
       "   start_lat  start_lng    end_lat    end_lng member_casual  distance  \\\n",
       "0  40.742675 -74.051806  40.727224 -74.033759        member  2.294339   \n",
       "1  40.742638 -74.051815  40.723659 -74.064194        casual  2.354073   \n",
       "3  40.742677 -74.051789  40.721651 -74.042884        member  2.455469   \n",
       "5  40.731169 -74.057574  40.724176 -74.050656        member  0.971745   \n",
       "6  40.731169 -74.057574  40.727596 -74.044247        member  1.191130   \n",
       "\n",
       "    duration  hour_of_day  day_of_week  \n",
       "0  11.133333           12            2  \n",
       "1  16.433333           18            0  \n",
       "3  11.650000           21            5  \n",
       "5   5.433333           18            0  \n",
       "6   6.883333           12            6  "
      ]
     },
     "execution_count": 8,
     "metadata": {},
     "output_type": "execute_result"
    }
   ],
   "source": [
    "train_df.head()"
   ]
  },
  {
   "cell_type": "code",
   "execution_count": 9,
   "metadata": {},
   "outputs": [
    {
     "data": {
      "text/plain": [
       "<Axes: >"
      ]
     },
     "execution_count": 9,
     "metadata": {},
     "output_type": "execute_result"
    },
    {
     "data": {
      "image/png": "[encoded data removed]",
      "text/plain": [
       "<Figure size 640x480 with 1 Axes>"
      ]
     },
     "metadata": {},
     "output_type": "display_data"
    }
   ],
   "source": [
    "train_df.duration.hist()"
   ]
  },
  {
   "cell_type": "code",
   "execution_count": 10,
   "metadata": {},
   "outputs": [
    {
     "data": {
      "text/plain": [
       "count    82741.000000\n",
       "mean         7.297055\n",
       "std          4.107538\n",
       "min          1.000000\n",
       "50%          6.350000\n",
       "75%          9.483333\n",
       "90%         13.450000\n",
       "95%         15.900000\n",
       "max         20.000000\n",
       "Name: duration, dtype: float64"
      ]
     },
     "execution_count": 10,
     "metadata": {},
     "output_type": "execute_result"
    }
   ],
   "source": [
    "train_df.duration.describe(percentiles=[0.95, 0.9, 0.75, 0.5])"
   ]
  },
  {
   "cell_type": "code",
   "execution_count": 11,
   "metadata": {},
   "outputs": [
    {
     "data": {
      "text/html": [
       "<div>\n",
       "<style scoped>\n",
       "    .dataframe tbody tr th:only-of-type {\n",
       "        vertical-align: middle;\n",
       "    }\n",
       "\n",
       "    .dataframe tbody tr th {\n",
       "        vertical-align: top;\n",
       "    }\n",
       "\n",
       "    .dataframe thead th {\n",
       "        text-align: right;\n",
       "    }\n",
       "</style>\n",
       "<table border=\"1\" class=\"dataframe\">\n",
       "  <thead>\n",
       "    <tr style=\"text-align: right;\">\n",
       "      <th></th>\n",
       "      <th>ride_id</th>\n",
       "      <th>rideable_type</th>\n",
       "      <th>started_at</th>\n",
       "      <th>ended_at</th>\n",
       "      <th>start_station_name</th>\n",
       "      <th>start_station_id</th>\n",
       "      <th>end_station_name</th>\n",
       "      <th>end_station_id</th>\n",
       "      <th>start_lat</th>\n",
       "      <th>start_lng</th>\n",
       "      <th>end_lat</th>\n",
       "      <th>end_lng</th>\n",
       "      <th>member_casual</th>\n",
       "      <th>distance</th>\n",
       "      <th>duration</th>\n",
       "      <th>hour_of_day</th>\n",
       "      <th>day_of_week</th>\n",
       "    </tr>\n",
       "  </thead>\n",
       "  <tbody>\n",
       "    <tr>\n",
       "      <th>0</th>\n",
       "      <td>BC145343639B5E5B</td>\n",
       "      <td>classic_bike</td>\n",
       "      <td>2023-05-31 12:27:28</td>\n",
       "      <td>2023-05-31 12:38:36</td>\n",
       "      <td>Pershing Field</td>\n",
       "      <td>JC024</td>\n",
       "      <td>Newport PATH</td>\n",
       "      <td>JC066</td>\n",
       "      <td>40.742675</td>\n",
       "      <td>-74.051806</td>\n",
       "      <td>40.727224</td>\n",
       "      <td>-74.033759</td>\n",
       "      <td>member</td>\n",
       "      <td>2.294339</td>\n",
       "      <td>11.133333</td>\n",
       "      <td>12</td>\n",
       "      <td>2</td>\n",
       "    </tr>\n",
       "    <tr>\n",
       "      <th>1</th>\n",
       "      <td>A0CE41F47514FF5C</td>\n",
       "      <td>classic_bike</td>\n",
       "      <td>2023-05-01 18:12:37</td>\n",
       "      <td>2023-05-01 18:29:03</td>\n",
       "      <td>Pershing Field</td>\n",
       "      <td>JC024</td>\n",
       "      <td>Baldwin at Montgomery</td>\n",
       "      <td>JC020</td>\n",
       "      <td>40.742638</td>\n",
       "      <td>-74.051815</td>\n",
       "      <td>40.723659</td>\n",
       "      <td>-74.064194</td>\n",
       "      <td>casual</td>\n",
       "      <td>2.354073</td>\n",
       "      <td>16.433333</td>\n",
       "      <td>18</td>\n",
       "      <td>0</td>\n",
       "    </tr>\n",
       "    <tr>\n",
       "      <th>3</th>\n",
       "      <td>89AC48A5584B2DB4</td>\n",
       "      <td>classic_bike</td>\n",
       "      <td>2023-05-27 21:01:37</td>\n",
       "      <td>2023-05-27 21:13:16</td>\n",
       "      <td>Pershing Field</td>\n",
       "      <td>JC024</td>\n",
       "      <td>Manila &amp; 1st</td>\n",
       "      <td>JC082</td>\n",
       "      <td>40.742677</td>\n",
       "      <td>-74.051789</td>\n",
       "      <td>40.721651</td>\n",
       "      <td>-74.042884</td>\n",
       "      <td>member</td>\n",
       "      <td>2.455469</td>\n",
       "      <td>11.650000</td>\n",
       "      <td>21</td>\n",
       "      <td>5</td>\n",
       "    </tr>\n",
       "    <tr>\n",
       "      <th>5</th>\n",
       "      <td>E5CB0D91D77D7ABC</td>\n",
       "      <td>classic_bike</td>\n",
       "      <td>2023-05-29 18:31:14</td>\n",
       "      <td>2023-05-29 18:36:40</td>\n",
       "      <td>Hilltop</td>\n",
       "      <td>JC019</td>\n",
       "      <td>Brunswick St</td>\n",
       "      <td>JC023</td>\n",
       "      <td>40.731169</td>\n",
       "      <td>-74.057574</td>\n",
       "      <td>40.724176</td>\n",
       "      <td>-74.050656</td>\n",
       "      <td>member</td>\n",
       "      <td>0.971745</td>\n",
       "      <td>5.433333</td>\n",
       "      <td>18</td>\n",
       "      <td>0</td>\n",
       "    </tr>\n",
       "    <tr>\n",
       "      <th>6</th>\n",
       "      <td>182ECD0410DCC11D</td>\n",
       "      <td>electric_bike</td>\n",
       "      <td>2023-05-07 12:30:42</td>\n",
       "      <td>2023-05-07 12:37:35</td>\n",
       "      <td>Hilltop</td>\n",
       "      <td>JC019</td>\n",
       "      <td>Hamilton Park</td>\n",
       "      <td>JC009</td>\n",
       "      <td>40.731169</td>\n",
       "      <td>-74.057574</td>\n",
       "      <td>40.727596</td>\n",
       "      <td>-74.044247</td>\n",
       "      <td>member</td>\n",
       "      <td>1.191130</td>\n",
       "      <td>6.883333</td>\n",
       "      <td>12</td>\n",
       "      <td>6</td>\n",
       "    </tr>\n",
       "  </tbody>\n",
       "</table>\n",
       "</div>"
      ],
      "text/plain": [
       "            ride_id  rideable_type          started_at            ended_at  \\\n",
       "0  BC145343639B5E5B   classic_bike 2023-05-31 12:27:28 2023-05-31 12:38:36   \n",
       "1  A0CE41F47514FF5C   classic_bike 2023-05-01 18:12:37 2023-05-01 18:29:03   \n",
       "3  89AC48A5584B2DB4   classic_bike 2023-05-27 21:01:37 2023-05-27 21:13:16   \n",
       "5  E5CB0D91D77D7ABC   classic_bike 2023-05-29 18:31:14 2023-05-29 18:36:40   \n",
       "6  182ECD0410DCC11D  electric_bike 2023-05-07 12:30:42 2023-05-07 12:37:35   \n",
       "\n",
       "  start_station_name start_station_id       end_station_name end_station_id  \\\n",
       "0     Pershing Field            JC024           Newport PATH          JC066   \n",
       "1     Pershing Field            JC024  Baldwin at Montgomery          JC020   \n",
       "3     Pershing Field            JC024           Manila & 1st          JC082   \n",
       "5            Hilltop            JC019           Brunswick St          JC023   \n",
       "6            Hilltop            JC019          Hamilton Park          JC009   \n",
       "\n",
       "   start_lat  start_lng    end_lat    end_lng member_casual  distance  \\\n",
       "0  40.742675 -74.051806  40.727224 -74.033759        member  2.294339   \n",
       "1  40.742638 -74.051815  40.723659 -74.064194        casual  2.354073   \n",
       "3  40.742677 -74.051789  40.721651 -74.042884        member  2.455469   \n",
       "5  40.731169 -74.057574  40.724176 -74.050656        member  0.971745   \n",
       "6  40.731169 -74.057574  40.727596 -74.044247        member  1.191130   \n",
       "\n",
       "    duration  hour_of_day  day_of_week  \n",
       "0  11.133333           12            2  \n",
       "1  16.433333           18            0  \n",
       "3  11.650000           21            5  \n",
       "5   5.433333           18            0  \n",
       "6   6.883333           12            6  "
      ]
     },
     "execution_count": 11,
     "metadata": {},
     "output_type": "execute_result"
    }
   ],
   "source": [
    "train_df.head()"
   ]
  },
  {
   "cell_type": "code",
   "execution_count": 12,
   "metadata": {},
   "outputs": [],
   "source": [
    "\n",
    "\n",
    "# haversine((40.757306457, -73.974517584), (40.7689738, -73.95482273), unit='km')"
   ]
  },
  {
   "cell_type": "code",
   "execution_count": 13,
   "metadata": {},
   "outputs": [],
   "source": [
    "categorical = ['start_station_id', 'end_station_id', 'rideable_type', 'hour_of_day', 'day_of_week', 'start_lat', 'start_lng', 'end_lat', 'end_lng', 'member_casual']\n",
    "numerical = ['distance']\n",
    "\n",
    "train_df[categorical] = train_df[categorical].astype(str)\n",
    "val_df[categorical] = val_df[categorical].astype(str)\n",
    "\n",
    "train_df['start_lat_lng'] = train_df['start_lat'] + '_' + train_df['start_lng']\n",
    "train_df['end_lat_lng'] = train_df['end_lat'] + '_' + train_df['end_lng']\n",
    "train_df['start_stop'] = train_df['start_station_id'] + '_' + train_df['end_station_id']\n",
    "val_df['start_lat_lng'] = val_df['start_lat'] + '_' + val_df['start_lng']\n",
    "val_df['end_lat_lng'] = val_df['end_lat'] + '_' + val_df['end_lng']\n",
    "val_df['start_stop'] = val_df['start_station_id'] + '_' + val_df['end_station_id']\n",
    "\n",
    "categorical = ['start_stop', 'rideable_type', 'hour_of_day', 'day_of_week', 'member_casual'] # 'start_station_id', 'end_station_id 'member_casual', 'hour_of_day', 'day_of_week', 'start_station_id', 'end_station_id' 'start_station_name', 'end_station_name', 'start_lat_lng', 'end_lat_lng'\n",
    "numerical = ['distance']\n",
    "\n",
    "train_dicts = train_df[categorical + numerical].to_dict(orient='records')\n",
    "val_dicts = val_df[categorical + numerical].to_dict(orient='records')\n",
    "\n",
    "\n",
    "dv = DictVectorizer()\n",
    "X_train = dv.fit_transform(train_dicts)\n",
    "X_val = dv.transform(val_dicts)\n",
    "\n",
    "target = 'duration'\n",
    "\n",
    "y_train = train_df[target].values\n",
    "y_val = val_df[target].values"
   ]
  },
  {
   "cell_type": "code",
   "execution_count": 18,
   "metadata": {},
   "outputs": [
    {
     "data": {
      "text/html": [
       "<style>#sk-container-id-2 {color: black;}#sk-container-id-2 pre{padding: 0;}#sk-container-id-2 div.sk-toggleable {background-color: white;}#sk-container-id-2 label.sk-toggleable__label {cursor: pointer;display: block;width: 100%;margin-bottom: 0;padding: 0.3em;box-sizing: border-box;text-align: center;}#sk-container-id-2 label.sk-toggleable__label-arrow:before {content: \"▸\";float: left;margin-right: 0.25em;color: #696969;}#sk-container-id-2 label.sk-toggleable__label-arrow:hover:before {color: black;}#sk-container-id-2 div.sk-estimator:hover label.sk-toggleable__label-arrow:before {color: black;}#sk-container-id-2 div.sk-toggleable__content {max-height: 0;max-width: 0;overflow: hidden;text-align: left;background-color: #f0f8ff;}#sk-container-id-2 div.sk-toggleable__content pre {margin: 0.2em;color: black;border-radius: 0.25em;background-color: #f0f8ff;}#sk-container-id-2 input.sk-toggleable__control:checked~div.sk-toggleable__content {max-height: 200px;max-width: 100%;overflow: auto;}#sk-container-id-2 input.sk-toggleable__control:checked~label.sk-toggleable__label-arrow:before {content: \"▾\";}#sk-container-id-2 div.sk-estimator input.sk-toggleable__control:checked~label.sk-toggleable__label {background-color: #d4ebff;}#sk-container-id-2 div.sk-label input.sk-toggleable__control:checked~label.sk-toggleable__label {background-color: #d4ebff;}#sk-container-id-2 input.sk-hidden--visually {border: 0;clip: rect(1px 1px 1px 1px);clip: rect(1px, 1px, 1px, 1px);height: 1px;margin: -1px;overflow: hidden;padding: 0;position: absolute;width: 1px;}#sk-container-id-2 div.sk-estimator {font-family: monospace;background-color: #f0f8ff;border: 1px dotted black;border-radius: 0.25em;box-sizing: border-box;margin-bottom: 0.5em;}#sk-container-id-2 div.sk-estimator:hover {background-color: #d4ebff;}#sk-container-id-2 div.sk-parallel-item::after {content: \"\";width: 100%;border-bottom: 1px solid gray;flex-grow: 1;}#sk-container-id-2 div.sk-label:hover label.sk-toggleable__label {background-color: #d4ebff;}#sk-container-id-2 div.sk-serial::before {content: \"\";position: absolute;border-left: 1px solid gray;box-sizing: border-box;top: 0;bottom: 0;left: 50%;z-index: 0;}#sk-container-id-2 div.sk-serial {display: flex;flex-direction: column;align-items: center;background-color: white;padding-right: 0.2em;padding-left: 0.2em;position: relative;}#sk-container-id-2 div.sk-item {position: relative;z-index: 1;}#sk-container-id-2 div.sk-parallel {display: flex;align-items: stretch;justify-content: center;background-color: white;position: relative;}#sk-container-id-2 div.sk-item::before, #sk-container-id-2 div.sk-parallel-item::before {content: \"\";position: absolute;border-left: 1px solid gray;box-sizing: border-box;top: 0;bottom: 0;left: 50%;z-index: -1;}#sk-container-id-2 div.sk-parallel-item {display: flex;flex-direction: column;z-index: 1;position: relative;background-color: white;}#sk-container-id-2 div.sk-parallel-item:first-child::after {align-self: flex-end;width: 50%;}#sk-container-id-2 div.sk-parallel-item:last-child::after {align-self: flex-start;width: 50%;}#sk-container-id-2 div.sk-parallel-item:only-child::after {width: 0;}#sk-container-id-2 div.sk-dashed-wrapped {border: 1px dashed gray;margin: 0 0.4em 0.5em 0.4em;box-sizing: border-box;padding-bottom: 0.4em;background-color: white;}#sk-container-id-2 div.sk-label label {font-family: monospace;font-weight: bold;display: inline-block;line-height: 1.2em;}#sk-container-id-2 div.sk-label-container {text-align: center;}#sk-container-id-2 div.sk-container {/* jupyter's `normalize.less` sets `[hidden] { display: none; }` but bootstrap.min.css set `[hidden] { display: none !important; }` so we also need the `!important` here to be able to override the default hidden behavior on the sphinx rendered scikit-learn.org. See: https://github.com/scikit-learn/scikit-learn/issues/21755 */display: inline-block !important;position: relative;}#sk-container-id-2 div.sk-text-repr-fallback {display: none;}</style><div id=\"sk-container-id-2\" class=\"sk-top-container\"><div class=\"sk-text-repr-fallback\"><pre>LinearRegression()</pre><b>In a Jupyter environment, please rerun this cell to show the HTML representation or trust the notebook. <br />On GitHub, the HTML representation is unable to render, please try loading this page with nbviewer.org.</b></div><div class=\"sk-container\" hidden><div class=\"sk-item\"><div class=\"sk-estimator sk-toggleable\"><input class=\"sk-toggleable__control sk-hidden--visually\" id=\"sk-estimator-id-2\" type=\"checkbox\" checked><label for=\"sk-estimator-id-2\" class=\"sk-toggleable__label sk-toggleable__label-arrow\">LinearRegression</label><div class=\"sk-toggleable__content\"><pre>LinearRegression()</pre></div></div></div></div></div>"
      ],
      "text/plain": [
       "LinearRegression()"
      ]
     },
     "execution_count": 18,
     "metadata": {},
     "output_type": "execute_result"
    }
   ],
   "source": [
    "lr = LinearRegression()\n",
    "lr.fit(X_train, y_train)"
   ]
  },
  {
   "cell_type": "code",
   "execution_count": 19,
   "metadata": {},
   "outputs": [
    {
     "data": {
      "text/plain": [
       "2.72"
      ]
     },
     "execution_count": 19,
     "metadata": {},
     "output_type": "execute_result"
    }
   ],
   "source": [
    "y_pred = lr.predict(X_val)\n",
    "mean_squared_error(y_val, y_pred, squared=False).round(2)"
   ]
  },
  {
   "cell_type": "code",
   "execution_count": 16,
   "metadata": {},
   "outputs": [
    {
     "name": "stderr",
     "output_type": "stream",
     "text": [
      "/tmp/ipykernel_5368/2624495092.py:1: UserWarning: \n",
      "\n",
      "`distplot` is a deprecated function and will be removed in seaborn v0.14.0.\n",
      "\n",
      "Please adapt your code to use either `displot` (a figure-level function with\n",
      "similar flexibility) or `histplot` (an axes-level function for histograms).\n",
      "\n",
      "For a guide to updating your code to use the new functions, please see\n",
      "https://gist.github.com/mwaskom/de44147ed2974457ad6372750bbe5751\n",
      "\n",
      "  sns.distplot(y_pred, label='prediction')\n"
     ]
    },
    {
     "name": "stderr",
     "output_type": "stream",
     "text": [
      "/tmp/ipykernel_5368/2624495092.py:2: UserWarning: \n",
      "\n",
      "`distplot` is a deprecated function and will be removed in seaborn v0.14.0.\n",
      "\n",
      "Please adapt your code to use either `displot` (a figure-level function with\n",
      "similar flexibility) or `histplot` (an axes-level function for histograms).\n",
      "\n",
      "For a guide to updating your code to use the new functions, please see\n",
      "https://gist.github.com/mwaskom/de44147ed2974457ad6372750bbe5751\n",
      "\n",
      "  sns.distplot(y_val, label='actual')\n"
     ]
    },
    {
     "data": {
      "text/plain": [
       "<matplotlib.legend.Legend at 0x7f23d20df8b0>"
      ]
     },
     "execution_count": 16,
     "metadata": {},
     "output_type": "execute_result"
    },
    {
     "data": {
      "image/png": "[encoded data removed]",
      "text/plain": [
       "<Figure size 640x480 with 1 Axes>"
      ]
     },
     "metadata": {},
     "output_type": "display_data"
    }
   ],
   "source": [
    "sns.distplot(y_pred, label='prediction')\n",
    "sns.distplot(y_val, label='actual')\n",
    "\n",
    "plt.legend()"
   ]
  },
  {
   "cell_type": "code",
   "execution_count": 17,
   "metadata": {},
   "outputs": [
    {
     "name": "stderr",
     "output_type": "stream",
     "text": [
      "/tmp/ipykernel_5368/2499170286.py:1: UserWarning: \n",
      "\n",
      "`distplot` is a deprecated function and will be removed in seaborn v0.14.0.\n",
      "\n",
      "Please adapt your code to use either `displot` (a figure-level function with\n",
      "similar flexibility) or `histplot` (an axes-level function for histograms).\n",
      "\n",
      "For a guide to updating your code to use the new functions, please see\n",
      "https://gist.github.com/mwaskom/de44147ed2974457ad6372750bbe5751\n",
      "\n",
      "  sns.distplot(train_df['hour_of_day'])\n"
     ]
    },
    {
     "data": {
      "text/plain": [
       "<Axes: xlabel='hour_of_day', ylabel='Density'>"
      ]
     },
     "execution_count": 17,
     "metadata": {},
     "output_type": "execute_result"
    },
    {
     "data": {
      "image/png": "[encoded data removed]",
      "text/plain": [
       "<Figure size 640x480 with 1 Axes>"
      ]
     },
     "metadata": {},
     "output_type": "display_data"
    }
   ],
   "source": [
    "sns.distplot(train_df['hour_of_day'])"
   ]
  },
  {
   "cell_type": "code",
   "execution_count": 44,
   "metadata": {},
   "outputs": [
    {
     "data": {
      "text/plain": [
       "count     3289942\n",
       "unique         19\n",
       "top            17\n",
       "freq       325040\n",
       "Name: hour_of_day, dtype: object"
      ]
     },
     "execution_count": 44,
     "metadata": {},
     "output_type": "execute_result"
    }
   ],
   "source": [
    "train_df['hour_of_day'].describe()"
   ]
  },
  {
   "cell_type": "code",
   "execution_count": 170,
   "metadata": {},
   "outputs": [
    {
     "name": "stderr",
     "output_type": "stream",
     "text": [
      "/tmp/ipykernel_63030/3711102375.py:1: DtypeWarning: Columns (5,7) have mixed types. Specify dtype option on import or set low_memory=False.\n",
      "  df = pd.read_csv(\"./data/202305-citibike-tripdata.csv\")\n"
     ]
    }
   ],
   "source": [
    "df = pd.read_csv(\"./data/202305-citibike-tripdata.csv\")\n",
    "# https://s3.amazonaws.com/tripdata/index.html"
   ]
  },
  {
   "cell_type": "code",
   "execution_count": 95,
   "metadata": {},
   "outputs": [
    {
     "data": {
      "text/html": [
       "<div>\n",
       "<style scoped>\n",
       "    .dataframe tbody tr th:only-of-type {\n",
       "        vertical-align: middle;\n",
       "    }\n",
       "\n",
       "    .dataframe tbody tr th {\n",
       "        vertical-align: top;\n",
       "    }\n",
       "\n",
       "    .dataframe thead th {\n",
       "        text-align: right;\n",
       "    }\n",
       "</style>\n",
       "<table border=\"1\" class=\"dataframe\">\n",
       "  <thead>\n",
       "    <tr style=\"text-align: right;\">\n",
       "      <th></th>\n",
       "      <th>ride_id</th>\n",
       "      <th>rideable_type</th>\n",
       "      <th>started_at</th>\n",
       "      <th>ended_at</th>\n",
       "      <th>start_station_name</th>\n",
       "      <th>start_station_id</th>\n",
       "      <th>end_station_name</th>\n",
       "      <th>end_station_id</th>\n",
       "      <th>start_lat</th>\n",
       "      <th>start_lng</th>\n",
       "      <th>end_lat</th>\n",
       "      <th>end_lng</th>\n",
       "      <th>member_casual</th>\n",
       "    </tr>\n",
       "  </thead>\n",
       "  <tbody>\n",
       "    <tr>\n",
       "      <th>0</th>\n",
       "      <td>176B188F3289F37B</td>\n",
       "      <td>classic_bike</td>\n",
       "      <td>2023-05-23 19:22:53</td>\n",
       "      <td>2023-05-23 19:35:23</td>\n",
       "      <td>E 50 St &amp; Park Ave</td>\n",
       "      <td>6659.10</td>\n",
       "      <td>E 74 St &amp; 1 Ave</td>\n",
       "      <td>6953.08</td>\n",
       "      <td>40.757306</td>\n",
       "      <td>-73.974518</td>\n",
       "      <td>40.768974</td>\n",
       "      <td>-73.954823</td>\n",
       "      <td>member</td>\n",
       "    </tr>\n",
       "    <tr>\n",
       "      <th>1</th>\n",
       "      <td>BB6957A02501C686</td>\n",
       "      <td>classic_bike</td>\n",
       "      <td>2023-05-27 08:49:55</td>\n",
       "      <td>2023-05-27 08:57:42</td>\n",
       "      <td>Flatbush Ave &amp; Ocean Ave</td>\n",
       "      <td>3704.04</td>\n",
       "      <td>Grand Army Plaza &amp; Plaza St West</td>\n",
       "      <td>4010.15</td>\n",
       "      <td>40.663657</td>\n",
       "      <td>-73.963014</td>\n",
       "      <td>40.672968</td>\n",
       "      <td>-73.970880</td>\n",
       "      <td>member</td>\n",
       "    </tr>\n",
       "    <tr>\n",
       "      <th>2</th>\n",
       "      <td>C67567E1DAFB9F2C</td>\n",
       "      <td>classic_bike</td>\n",
       "      <td>2023-05-12 20:19:58</td>\n",
       "      <td>2023-05-12 20:36:07</td>\n",
       "      <td>Flatbush Ave &amp; Ocean Ave</td>\n",
       "      <td>3704.04</td>\n",
       "      <td>3 St &amp; 7 Ave</td>\n",
       "      <td>3905.15</td>\n",
       "      <td>40.663657</td>\n",
       "      <td>-73.963014</td>\n",
       "      <td>40.670384</td>\n",
       "      <td>-73.978397</td>\n",
       "      <td>member</td>\n",
       "    </tr>\n",
       "    <tr>\n",
       "      <th>3</th>\n",
       "      <td>89DDFCEAE05D043A</td>\n",
       "      <td>electric_bike</td>\n",
       "      <td>2023-05-03 07:59:13</td>\n",
       "      <td>2023-05-03 08:07:04</td>\n",
       "      <td>Flatbush Ave &amp; Ocean Ave</td>\n",
       "      <td>3704.04</td>\n",
       "      <td>3 St &amp; 7 Ave</td>\n",
       "      <td>3905.15</td>\n",
       "      <td>40.663657</td>\n",
       "      <td>-73.963014</td>\n",
       "      <td>40.670384</td>\n",
       "      <td>-73.978397</td>\n",
       "      <td>member</td>\n",
       "    </tr>\n",
       "    <tr>\n",
       "      <th>4</th>\n",
       "      <td>63B1D5A7A2316252</td>\n",
       "      <td>classic_bike</td>\n",
       "      <td>2023-05-13 10:23:52</td>\n",
       "      <td>2023-05-13 10:47:17</td>\n",
       "      <td>Flatbush Ave &amp; Ocean Ave</td>\n",
       "      <td>3704.04</td>\n",
       "      <td>Grand Army Plaza &amp; Plaza St West</td>\n",
       "      <td>4010.15</td>\n",
       "      <td>40.663657</td>\n",
       "      <td>-73.963014</td>\n",
       "      <td>40.672968</td>\n",
       "      <td>-73.970880</td>\n",
       "      <td>member</td>\n",
       "    </tr>\n",
       "    <tr>\n",
       "      <th>...</th>\n",
       "      <td>...</td>\n",
       "      <td>...</td>\n",
       "      <td>...</td>\n",
       "      <td>...</td>\n",
       "      <td>...</td>\n",
       "      <td>...</td>\n",
       "      <td>...</td>\n",
       "      <td>...</td>\n",
       "      <td>...</td>\n",
       "      <td>...</td>\n",
       "      <td>...</td>\n",
       "      <td>...</td>\n",
       "      <td>...</td>\n",
       "    </tr>\n",
       "    <tr>\n",
       "      <th>3580761</th>\n",
       "      <td>BA28157F10FA9C78</td>\n",
       "      <td>classic_bike</td>\n",
       "      <td>2023-05-11 17:37:54</td>\n",
       "      <td>2023-05-11 17:43:33</td>\n",
       "      <td>Lewis Ave &amp; Fulton St</td>\n",
       "      <td>4196.01</td>\n",
       "      <td>Hancock St &amp; Bedford Ave</td>\n",
       "      <td>4255.05</td>\n",
       "      <td>40.679739</td>\n",
       "      <td>-73.934619</td>\n",
       "      <td>40.682166</td>\n",
       "      <td>-73.953990</td>\n",
       "      <td>member</td>\n",
       "    </tr>\n",
       "    <tr>\n",
       "      <th>3580762</th>\n",
       "      <td>5FD57F3ED53FDBEB</td>\n",
       "      <td>classic_bike</td>\n",
       "      <td>2023-05-21 12:36:04</td>\n",
       "      <td>2023-05-21 13:19:32</td>\n",
       "      <td>35 Ave &amp; 37 St</td>\n",
       "      <td>6563.12</td>\n",
       "      <td>5 Ave &amp; E 78 St</td>\n",
       "      <td>7161.08</td>\n",
       "      <td>40.755733</td>\n",
       "      <td>-73.923661</td>\n",
       "      <td>40.776321</td>\n",
       "      <td>-73.964274</td>\n",
       "      <td>member</td>\n",
       "    </tr>\n",
       "    <tr>\n",
       "      <th>3580763</th>\n",
       "      <td>30CC35A9A433B701</td>\n",
       "      <td>classic_bike</td>\n",
       "      <td>2023-05-08 09:37:54</td>\n",
       "      <td>2023-05-08 10:04:59</td>\n",
       "      <td>Broadway &amp; Berry St</td>\n",
       "      <td>5164.05</td>\n",
       "      <td>3 St &amp; Prospect Park West</td>\n",
       "      <td>3865.05</td>\n",
       "      <td>40.710425</td>\n",
       "      <td>-73.965394</td>\n",
       "      <td>40.668132</td>\n",
       "      <td>-73.973638</td>\n",
       "      <td>member</td>\n",
       "    </tr>\n",
       "    <tr>\n",
       "      <th>3580764</th>\n",
       "      <td>2968C17CC49A7187</td>\n",
       "      <td>classic_bike</td>\n",
       "      <td>2023-05-27 19:55:19</td>\n",
       "      <td>2023-05-27 20:00:41</td>\n",
       "      <td>W 55 St &amp; 6 Ave</td>\n",
       "      <td>6809.09</td>\n",
       "      <td>W 50 St &amp; 9 Ave</td>\n",
       "      <td>6854.05</td>\n",
       "      <td>40.763189</td>\n",
       "      <td>-73.978434</td>\n",
       "      <td>40.763605</td>\n",
       "      <td>-73.989180</td>\n",
       "      <td>member</td>\n",
       "    </tr>\n",
       "    <tr>\n",
       "      <th>3580765</th>\n",
       "      <td>CD9203C8D4896BA1</td>\n",
       "      <td>classic_bike</td>\n",
       "      <td>2023-05-23 19:08:47</td>\n",
       "      <td>2023-05-23 19:22:59</td>\n",
       "      <td>E 51 St &amp; 2 Ave</td>\n",
       "      <td>6575.03</td>\n",
       "      <td>E 11 St &amp; 1 Ave</td>\n",
       "      <td>5746.14</td>\n",
       "      <td>40.755293</td>\n",
       "      <td>-73.967641</td>\n",
       "      <td>40.729538</td>\n",
       "      <td>-73.984267</td>\n",
       "      <td>member</td>\n",
       "    </tr>\n",
       "  </tbody>\n",
       "</table>\n",
       "<p>3580766 rows × 13 columns</p>\n",
       "</div>"
      ],
      "text/plain": [
       "                  ride_id  rideable_type           started_at  \\\n",
       "0        176B188F3289F37B   classic_bike  2023-05-23 19:22:53   \n",
       "1        BB6957A02501C686   classic_bike  2023-05-27 08:49:55   \n",
       "2        C67567E1DAFB9F2C   classic_bike  2023-05-12 20:19:58   \n",
       "3        89DDFCEAE05D043A  electric_bike  2023-05-03 07:59:13   \n",
       "4        63B1D5A7A2316252   classic_bike  2023-05-13 10:23:52   \n",
       "...                   ...            ...                  ...   \n",
       "3580761  BA28157F10FA9C78   classic_bike  2023-05-11 17:37:54   \n",
       "3580762  5FD57F3ED53FDBEB   classic_bike  2023-05-21 12:36:04   \n",
       "3580763  30CC35A9A433B701   classic_bike  2023-05-08 09:37:54   \n",
       "3580764  2968C17CC49A7187   classic_bike  2023-05-27 19:55:19   \n",
       "3580765  CD9203C8D4896BA1   classic_bike  2023-05-23 19:08:47   \n",
       "\n",
       "                    ended_at        start_station_name start_station_id  \\\n",
       "0        2023-05-23 19:35:23        E 50 St & Park Ave          6659.10   \n",
       "1        2023-05-27 08:57:42  Flatbush Ave & Ocean Ave          3704.04   \n",
       "2        2023-05-12 20:36:07  Flatbush Ave & Ocean Ave          3704.04   \n",
       "3        2023-05-03 08:07:04  Flatbush Ave & Ocean Ave          3704.04   \n",
       "4        2023-05-13 10:47:17  Flatbush Ave & Ocean Ave          3704.04   \n",
       "...                      ...                       ...              ...   \n",
       "3580761  2023-05-11 17:43:33     Lewis Ave & Fulton St          4196.01   \n",
       "3580762  2023-05-21 13:19:32            35 Ave & 37 St          6563.12   \n",
       "3580763  2023-05-08 10:04:59       Broadway & Berry St          5164.05   \n",
       "3580764  2023-05-27 20:00:41           W 55 St & 6 Ave          6809.09   \n",
       "3580765  2023-05-23 19:22:59           E 51 St & 2 Ave          6575.03   \n",
       "\n",
       "                         end_station_name end_station_id  start_lat  \\\n",
       "0                         E 74 St & 1 Ave        6953.08  40.757306   \n",
       "1        Grand Army Plaza & Plaza St West        4010.15  40.663657   \n",
       "2                            3 St & 7 Ave        3905.15  40.663657   \n",
       "3                            3 St & 7 Ave        3905.15  40.663657   \n",
       "4        Grand Army Plaza & Plaza St West        4010.15  40.663657   \n",
       "...                                   ...            ...        ...   \n",
       "3580761          Hancock St & Bedford Ave        4255.05  40.679739   \n",
       "3580762                   5 Ave & E 78 St        7161.08  40.755733   \n",
       "3580763         3 St & Prospect Park West        3865.05  40.710425   \n",
       "3580764                   W 50 St & 9 Ave        6854.05  40.763189   \n",
       "3580765                   E 11 St & 1 Ave        5746.14  40.755293   \n",
       "\n",
       "         start_lng    end_lat    end_lng member_casual  \n",
       "0       -73.974518  40.768974 -73.954823        member  \n",
       "1       -73.963014  40.672968 -73.970880        member  \n",
       "2       -73.963014  40.670384 -73.978397        member  \n",
       "3       -73.963014  40.670384 -73.978397        member  \n",
       "4       -73.963014  40.672968 -73.970880        member  \n",
       "...            ...        ...        ...           ...  \n",
       "3580761 -73.934619  40.682166 -73.953990        member  \n",
       "3580762 -73.923661  40.776321 -73.964274        member  \n",
       "3580763 -73.965394  40.668132 -73.973638        member  \n",
       "3580764 -73.978434  40.763605 -73.989180        member  \n",
       "3580765 -73.967641  40.729538 -73.984267        member  \n",
       "\n",
       "[3580766 rows x 13 columns]"
      ]
     },
     "execution_count": 95,
     "metadata": {},
     "output_type": "execute_result"
    }
   ],
   "source": [
    "df"
   ]
  },
  {
   "cell_type": "code",
   "execution_count": 171,
   "metadata": {},
   "outputs": [
    {
     "data": {
      "text/plain": [
       "(3580766, 13)"
      ]
     },
     "execution_count": 171,
     "metadata": {},
     "output_type": "execute_result"
    }
   ],
   "source": [
    "df.shape"
   ]
  },
  {
   "cell_type": "code",
   "execution_count": 172,
   "metadata": {},
   "outputs": [
    {
     "name": "stdout",
     "output_type": "stream",
     "text": [
      "<class 'pandas.core.frame.DataFrame'>\n",
      "RangeIndex: 3580766 entries, 0 to 3580765\n",
      "Data columns (total 13 columns):\n",
      " #   Column              Dtype  \n",
      "---  ------              -----  \n",
      " 0   ride_id             object \n",
      " 1   rideable_type       object \n",
      " 2   started_at          object \n",
      " 3   ended_at            object \n",
      " 4   start_station_name  object \n",
      " 5   start_station_id    object \n",
      " 6   end_station_name    object \n",
      " 7   end_station_id      object \n",
      " 8   start_lat           float64\n",
      " 9   start_lng           float64\n",
      " 10  end_lat             float64\n",
      " 11  end_lng             float64\n",
      " 12  member_casual       object \n",
      "dtypes: float64(4), object(9)\n",
      "memory usage: 355.1+ MB\n"
     ]
    }
   ],
   "source": [
    "df.info()"
   ]
  },
  {
   "cell_type": "code",
   "execution_count": 173,
   "metadata": {},
   "outputs": [
    {
     "data": {
      "text/plain": [
       "Index(['ride_id', 'rideable_type', 'started_at', 'ended_at',\n",
       "       'start_station_name', 'start_station_id', 'end_station_name',\n",
       "       'end_station_id', 'start_lat', 'start_lng', 'end_lat', 'end_lng',\n",
       "       'member_casual'],\n",
       "      dtype='object')"
      ]
     },
     "execution_count": 173,
     "metadata": {},
     "output_type": "execute_result"
    }
   ],
   "source": [
    "df.columns"
   ]
  },
  {
   "cell_type": "code",
   "execution_count": 174,
   "metadata": {},
   "outputs": [
    {
     "data": {
      "text/plain": [
       "ride_id                  0\n",
       "rideable_type            0\n",
       "started_at               0\n",
       "ended_at                 0\n",
       "start_station_name     570\n",
       "start_station_id       570\n",
       "end_station_name      8495\n",
       "end_station_id        8495\n",
       "start_lat                0\n",
       "start_lng                0\n",
       "end_lat               3009\n",
       "end_lng               3009\n",
       "member_casual            0\n",
       "dtype: int64"
      ]
     },
     "execution_count": 174,
     "metadata": {},
     "output_type": "execute_result"
    }
   ],
   "source": [
    "df.isnull().sum()"
   ]
  },
  {
   "cell_type": "code",
   "execution_count": 175,
   "metadata": {},
   "outputs": [],
   "source": [
    "df.dropna(inplace=True)"
   ]
  },
  {
   "cell_type": "code",
   "execution_count": 176,
   "metadata": {},
   "outputs": [],
   "source": [
    "df = df[['ride_id', 'rideable_type', 'started_at', 'ended_at', 'start_station_name', 'start_station_id', 'end_station_name', 'end_station_id', 'member_casual', 'start_lat', 'start_lng', 'end_lat', 'end_lng']]"
   ]
  },
  {
   "cell_type": "code",
   "execution_count": 177,
   "metadata": {},
   "outputs": [
    {
     "data": {
      "text/html": [
       "<div>\n",
       "<style scoped>\n",
       "    .dataframe tbody tr th:only-of-type {\n",
       "        vertical-align: middle;\n",
       "    }\n",
       "\n",
       "    .dataframe tbody tr th {\n",
       "        vertical-align: top;\n",
       "    }\n",
       "\n",
       "    .dataframe thead th {\n",
       "        text-align: right;\n",
       "    }\n",
       "</style>\n",
       "<table border=\"1\" class=\"dataframe\">\n",
       "  <thead>\n",
       "    <tr style=\"text-align: right;\">\n",
       "      <th></th>\n",
       "      <th>ride_id</th>\n",
       "      <th>rideable_type</th>\n",
       "      <th>started_at</th>\n",
       "      <th>ended_at</th>\n",
       "      <th>start_station_name</th>\n",
       "      <th>start_station_id</th>\n",
       "      <th>end_station_name</th>\n",
       "      <th>end_station_id</th>\n",
       "      <th>member_casual</th>\n",
       "      <th>start_lat</th>\n",
       "      <th>start_lng</th>\n",
       "      <th>end_lat</th>\n",
       "      <th>end_lng</th>\n",
       "    </tr>\n",
       "  </thead>\n",
       "  <tbody>\n",
       "    <tr>\n",
       "      <th>0</th>\n",
       "      <td>176B188F3289F37B</td>\n",
       "      <td>classic_bike</td>\n",
       "      <td>2023-05-23 19:22:53</td>\n",
       "      <td>2023-05-23 19:35:23</td>\n",
       "      <td>E 50 St &amp; Park Ave</td>\n",
       "      <td>6659.10</td>\n",
       "      <td>E 74 St &amp; 1 Ave</td>\n",
       "      <td>6953.08</td>\n",
       "      <td>member</td>\n",
       "      <td>40.757306</td>\n",
       "      <td>-73.974518</td>\n",
       "      <td>40.768974</td>\n",
       "      <td>-73.954823</td>\n",
       "    </tr>\n",
       "    <tr>\n",
       "      <th>1</th>\n",
       "      <td>BB6957A02501C686</td>\n",
       "      <td>classic_bike</td>\n",
       "      <td>2023-05-27 08:49:55</td>\n",
       "      <td>2023-05-27 08:57:42</td>\n",
       "      <td>Flatbush Ave &amp; Ocean Ave</td>\n",
       "      <td>3704.04</td>\n",
       "      <td>Grand Army Plaza &amp; Plaza St West</td>\n",
       "      <td>4010.15</td>\n",
       "      <td>member</td>\n",
       "      <td>40.663657</td>\n",
       "      <td>-73.963014</td>\n",
       "      <td>40.672968</td>\n",
       "      <td>-73.970880</td>\n",
       "    </tr>\n",
       "    <tr>\n",
       "      <th>2</th>\n",
       "      <td>C67567E1DAFB9F2C</td>\n",
       "      <td>classic_bike</td>\n",
       "      <td>2023-05-12 20:19:58</td>\n",
       "      <td>2023-05-12 20:36:07</td>\n",
       "      <td>Flatbush Ave &amp; Ocean Ave</td>\n",
       "      <td>3704.04</td>\n",
       "      <td>3 St &amp; 7 Ave</td>\n",
       "      <td>3905.15</td>\n",
       "      <td>member</td>\n",
       "      <td>40.663657</td>\n",
       "      <td>-73.963014</td>\n",
       "      <td>40.670384</td>\n",
       "      <td>-73.978397</td>\n",
       "    </tr>\n",
       "    <tr>\n",
       "      <th>3</th>\n",
       "      <td>89DDFCEAE05D043A</td>\n",
       "      <td>electric_bike</td>\n",
       "      <td>2023-05-03 07:59:13</td>\n",
       "      <td>2023-05-03 08:07:04</td>\n",
       "      <td>Flatbush Ave &amp; Ocean Ave</td>\n",
       "      <td>3704.04</td>\n",
       "      <td>3 St &amp; 7 Ave</td>\n",
       "      <td>3905.15</td>\n",
       "      <td>member</td>\n",
       "      <td>40.663657</td>\n",
       "      <td>-73.963014</td>\n",
       "      <td>40.670384</td>\n",
       "      <td>-73.978397</td>\n",
       "    </tr>\n",
       "    <tr>\n",
       "      <th>4</th>\n",
       "      <td>63B1D5A7A2316252</td>\n",
       "      <td>classic_bike</td>\n",
       "      <td>2023-05-13 10:23:52</td>\n",
       "      <td>2023-05-13 10:47:17</td>\n",
       "      <td>Flatbush Ave &amp; Ocean Ave</td>\n",
       "      <td>3704.04</td>\n",
       "      <td>Grand Army Plaza &amp; Plaza St West</td>\n",
       "      <td>4010.15</td>\n",
       "      <td>member</td>\n",
       "      <td>40.663657</td>\n",
       "      <td>-73.963014</td>\n",
       "      <td>40.672968</td>\n",
       "      <td>-73.970880</td>\n",
       "    </tr>\n",
       "  </tbody>\n",
       "</table>\n",
       "</div>"
      ],
      "text/plain": [
       "            ride_id  rideable_type           started_at             ended_at  \\\n",
       "0  176B188F3289F37B   classic_bike  2023-05-23 19:22:53  2023-05-23 19:35:23   \n",
       "1  BB6957A02501C686   classic_bike  2023-05-27 08:49:55  2023-05-27 08:57:42   \n",
       "2  C67567E1DAFB9F2C   classic_bike  2023-05-12 20:19:58  2023-05-12 20:36:07   \n",
       "3  89DDFCEAE05D043A  electric_bike  2023-05-03 07:59:13  2023-05-03 08:07:04   \n",
       "4  63B1D5A7A2316252   classic_bike  2023-05-13 10:23:52  2023-05-13 10:47:17   \n",
       "\n",
       "         start_station_name start_station_id  \\\n",
       "0        E 50 St & Park Ave          6659.10   \n",
       "1  Flatbush Ave & Ocean Ave          3704.04   \n",
       "2  Flatbush Ave & Ocean Ave          3704.04   \n",
       "3  Flatbush Ave & Ocean Ave          3704.04   \n",
       "4  Flatbush Ave & Ocean Ave          3704.04   \n",
       "\n",
       "                   end_station_name end_station_id member_casual  start_lat  \\\n",
       "0                   E 74 St & 1 Ave        6953.08        member  40.757306   \n",
       "1  Grand Army Plaza & Plaza St West        4010.15        member  40.663657   \n",
       "2                      3 St & 7 Ave        3905.15        member  40.663657   \n",
       "3                      3 St & 7 Ave        3905.15        member  40.663657   \n",
       "4  Grand Army Plaza & Plaza St West        4010.15        member  40.663657   \n",
       "\n",
       "   start_lng    end_lat    end_lng  \n",
       "0 -73.974518  40.768974 -73.954823  \n",
       "1 -73.963014  40.672968 -73.970880  \n",
       "2 -73.963014  40.670384 -73.978397  \n",
       "3 -73.963014  40.670384 -73.978397  \n",
       "4 -73.963014  40.672968 -73.970880  "
      ]
     },
     "execution_count": 177,
     "metadata": {},
     "output_type": "execute_result"
    }
   ],
   "source": [
    "df.head()"
   ]
  },
  {
   "cell_type": "code",
   "execution_count": 178,
   "metadata": {},
   "outputs": [],
   "source": []
  },
  {
   "cell_type": "code",
   "execution_count": 179,
   "metadata": {},
   "outputs": [],
   "source": []
  },
  {
   "cell_type": "code",
   "execution_count": 180,
   "metadata": {},
   "outputs": [],
   "source": []
  },
  {
   "cell_type": "code",
   "execution_count": 144,
   "metadata": {},
   "outputs": [
    {
     "data": {
      "text/plain": [
       "2.10586830879352"
      ]
     },
     "execution_count": 144,
     "metadata": {},
     "output_type": "execute_result"
    }
   ],
   "source": [
    "getDistanceFromLatLonInKm(40.757306, -73.974518, 40.768974, -73.954823)"
   ]
  },
  {
   "cell_type": "code",
   "execution_count": 9,
   "metadata": {},
   "outputs": [
    {
     "data": {
      "text/plain": [
       "90.35816524"
      ]
     },
     "execution_count": 9,
     "metadata": {},
     "output_type": "execute_result"
    }
   ],
   "source": [
    "# s_lat = 40.757306\n",
    "# s_lng = -73.974518\n",
    "# e_lat = 40.768974\n",
    "# e_lng = -73.954823\n",
    "\n",
    "# sine_part = sin(s_lat)*sin(e_lat)\n",
    "\n",
    "# 3956 * round(acos(sine_part+cos(s_lat)*cos(e_lat)*cos(e_lng-s_lng)),8)"
   ]
  },
  {
   "cell_type": "code",
   "execution_count": null,
   "metadata": {},
   "outputs": [],
   "source": [
    "# def find_distance(slat, elat, slng, elng):\n",
    "    # sine_part = sin(slat)*sin(elat)\n",
    "    "
   ]
  },
  {
   "cell_type": "code",
   "execution_count": 181,
   "metadata": {},
   "outputs": [],
   "source": []
  },
  {
   "cell_type": "code",
   "execution_count": 70,
   "metadata": {},
   "outputs": [
    {
     "ename": "TypeError",
     "evalue": "cannot convert the series to <class 'float'>",
     "output_type": "error",
     "traceback": [
      "\u001b[0;31m---------------------------------------------------------------------------\u001b[0m",
      "\u001b[0;31mTypeError\u001b[0m                                 Traceback (most recent call last)",
      "Cell \u001b[0;32mIn[70], line 1\u001b[0m\n\u001b[0;32m----> 1\u001b[0m df[\u001b[39m'\u001b[39m\u001b[39mdistance\u001b[39m\u001b[39m'\u001b[39m] \u001b[39m=\u001b[39m \u001b[39m3956\u001b[39m \u001b[39m*\u001b[39m acos(sin(df[\u001b[39m'\u001b[39;49m\u001b[39mstart_lat\u001b[39;49m\u001b[39m'\u001b[39;49m])\u001b[39m*\u001b[39msin(df[\u001b[39m'\u001b[39m\u001b[39mend_lat\u001b[39m\u001b[39m'\u001b[39m])\u001b[39m+\u001b[39mcos(df[\u001b[39m'\u001b[39m\u001b[39mstart_lat\u001b[39m\u001b[39m'\u001b[39m])\u001b[39m*\u001b[39mcos(df[\u001b[39m'\u001b[39m\u001b[39mend_lat\u001b[39m\u001b[39m'\u001b[39m])\u001b[39m*\u001b[39mcos(df[\u001b[39m'\u001b[39m\u001b[39mstart_lng\u001b[39m\u001b[39m'\u001b[39m]\u001b[39m-\u001b[39mdf[\u001b[39m'\u001b[39m\u001b[39mend_lng\u001b[39m\u001b[39m'\u001b[39m]))\n",
      "File \u001b[0;32m~/anaconda3/lib/python3.10/site-packages/pandas/core/series.py:206\u001b[0m, in \u001b[0;36m_coerce_method.<locals>.wrapper\u001b[0;34m(self)\u001b[0m\n\u001b[1;32m    204\u001b[0m \u001b[39mif\u001b[39;00m \u001b[39mlen\u001b[39m(\u001b[39mself\u001b[39m) \u001b[39m==\u001b[39m \u001b[39m1\u001b[39m:\n\u001b[1;32m    205\u001b[0m     \u001b[39mreturn\u001b[39;00m converter(\u001b[39mself\u001b[39m\u001b[39m.\u001b[39miloc[\u001b[39m0\u001b[39m])\n\u001b[0;32m--> 206\u001b[0m \u001b[39mraise\u001b[39;00m \u001b[39mTypeError\u001b[39;00m(\u001b[39mf\u001b[39m\u001b[39m\"\u001b[39m\u001b[39mcannot convert the series to \u001b[39m\u001b[39m{\u001b[39;00mconverter\u001b[39m}\u001b[39;00m\u001b[39m\"\u001b[39m)\n",
      "\u001b[0;31mTypeError\u001b[0m: cannot convert the series to <class 'float'>"
     ]
    }
   ],
   "source": [
    "# df['distance'] = 3956 * acos(sin(df['start_lat'])*sin(df['end_lat'])+cos(df['start_lat'])*cos(df['end_lat'])*cos(df['start_lng']-df['end_lng']))  # kms 6371.0 miles 3956 df"
   ]
  },
  {
   "cell_type": "code",
   "execution_count": 182,
   "metadata": {},
   "outputs": [],
   "source": [
    "df['started_at'] = pd.to_datetime(df['started_at'])\n",
    "df['ended_at'] = pd.to_datetime(df['ended_at'])"
   ]
  },
  {
   "cell_type": "code",
   "execution_count": 183,
   "metadata": {},
   "outputs": [],
   "source": [
    "df['duration'] = df.ended_at - df.started_at\n",
    "df.duration = df.duration.apply(lambda td: td.total_seconds()/60)"
   ]
  },
  {
   "cell_type": "code",
   "execution_count": 154,
   "metadata": {},
   "outputs": [
    {
     "name": "stderr",
     "output_type": "stream",
     "text": [
      "/tmp/ipykernel_63030/3426635498.py:1: UserWarning: \n",
      "\n",
      "`distplot` is a deprecated function and will be removed in seaborn v0.14.0.\n",
      "\n",
      "Please adapt your code to use either `displot` (a figure-level function with\n",
      "similar flexibility) or `histplot` (an axes-level function for histograms).\n",
      "\n",
      "For a guide to updating your code to use the new functions, please see\n",
      "https://gist.github.com/mwaskom/de44147ed2974457ad6372750bbe5751\n",
      "\n",
      "  sns.distplot(df.duration)\n"
     ]
    },
    {
     "data": {
      "text/plain": [
       "<Axes: xlabel='duration', ylabel='Density'>"
      ]
     },
     "execution_count": 154,
     "metadata": {},
     "output_type": "execute_result"
    },
    {
     "data": {
      "image/png": "[encoded data removed]",
      "text/plain": [
       "<Figure size 640x480 with 1 Axes>"
      ]
     },
     "metadata": {},
     "output_type": "display_data"
    }
   ],
   "source": [
    "sns.distplot(df.duration)"
   ]
  },
  {
   "cell_type": "code",
   "execution_count": 184,
   "metadata": {},
   "outputs": [
    {
     "data": {
      "text/plain": [
       "0.9494041745433087"
      ]
     },
     "execution_count": 184,
     "metadata": {},
     "output_type": "execute_result"
    }
   ],
   "source": [
    "df.duration.describe().round(2)\n",
    "((df.duration >= 1) & (df.duration <= 60 )).mean()"
   ]
  },
  {
   "cell_type": "code",
   "execution_count": 185,
   "metadata": {},
   "outputs": [],
   "source": [
    "df = df[(df.duration >= 1) & (df.duration <= 60 )].copy()\n",
    "df['hour_of_day'] = df.started_at.dt.hour"
   ]
  },
  {
   "cell_type": "code",
   "execution_count": 153,
   "metadata": {},
   "outputs": [
    {
     "data": {
      "text/html": [
       "<div>\n",
       "<style scoped>\n",
       "    .dataframe tbody tr th:only-of-type {\n",
       "        vertical-align: middle;\n",
       "    }\n",
       "\n",
       "    .dataframe tbody tr th {\n",
       "        vertical-align: top;\n",
       "    }\n",
       "\n",
       "    .dataframe thead th {\n",
       "        text-align: right;\n",
       "    }\n",
       "</style>\n",
       "<table border=\"1\" class=\"dataframe\">\n",
       "  <thead>\n",
       "    <tr style=\"text-align: right;\">\n",
       "      <th></th>\n",
       "      <th>ride_id</th>\n",
       "      <th>rideable_type</th>\n",
       "      <th>started_at</th>\n",
       "      <th>ended_at</th>\n",
       "      <th>start_station_name</th>\n",
       "      <th>end_station_name</th>\n",
       "      <th>member_casual</th>\n",
       "      <th>start_lat</th>\n",
       "      <th>start_lng</th>\n",
       "      <th>end_lat</th>\n",
       "      <th>end_lng</th>\n",
       "      <th>distance</th>\n",
       "      <th>duration</th>\n",
       "      <th>hour_of_day</th>\n",
       "    </tr>\n",
       "  </thead>\n",
       "  <tbody>\n",
       "    <tr>\n",
       "      <th>0</th>\n",
       "      <td>176B188F3289F37B</td>\n",
       "      <td>classic_bike</td>\n",
       "      <td>2023-05-23 19:22:53</td>\n",
       "      <td>2023-05-23 19:35:23</td>\n",
       "      <td>E 50 St &amp; Park Ave</td>\n",
       "      <td>E 74 St &amp; 1 Ave</td>\n",
       "      <td>member</td>\n",
       "      <td>40.757306</td>\n",
       "      <td>-73.974518</td>\n",
       "      <td>40.768974</td>\n",
       "      <td>-73.954823</td>\n",
       "      <td>2.105814</td>\n",
       "      <td>12.500000</td>\n",
       "      <td>19</td>\n",
       "    </tr>\n",
       "    <tr>\n",
       "      <th>1</th>\n",
       "      <td>BB6957A02501C686</td>\n",
       "      <td>classic_bike</td>\n",
       "      <td>2023-05-27 08:49:55</td>\n",
       "      <td>2023-05-27 08:57:42</td>\n",
       "      <td>Flatbush Ave &amp; Ocean Ave</td>\n",
       "      <td>Grand Army Plaza &amp; Plaza St West</td>\n",
       "      <td>member</td>\n",
       "      <td>40.663657</td>\n",
       "      <td>-73.963014</td>\n",
       "      <td>40.672968</td>\n",
       "      <td>-73.970880</td>\n",
       "      <td>1.229639</td>\n",
       "      <td>7.783333</td>\n",
       "      <td>8</td>\n",
       "    </tr>\n",
       "    <tr>\n",
       "      <th>2</th>\n",
       "      <td>C67567E1DAFB9F2C</td>\n",
       "      <td>classic_bike</td>\n",
       "      <td>2023-05-12 20:19:58</td>\n",
       "      <td>2023-05-12 20:36:07</td>\n",
       "      <td>Flatbush Ave &amp; Ocean Ave</td>\n",
       "      <td>3 St &amp; 7 Ave</td>\n",
       "      <td>member</td>\n",
       "      <td>40.663657</td>\n",
       "      <td>-73.963014</td>\n",
       "      <td>40.670384</td>\n",
       "      <td>-73.978397</td>\n",
       "      <td>1.497586</td>\n",
       "      <td>16.150000</td>\n",
       "      <td>20</td>\n",
       "    </tr>\n",
       "    <tr>\n",
       "      <th>3</th>\n",
       "      <td>89DDFCEAE05D043A</td>\n",
       "      <td>electric_bike</td>\n",
       "      <td>2023-05-03 07:59:13</td>\n",
       "      <td>2023-05-03 08:07:04</td>\n",
       "      <td>Flatbush Ave &amp; Ocean Ave</td>\n",
       "      <td>3 St &amp; 7 Ave</td>\n",
       "      <td>member</td>\n",
       "      <td>40.663657</td>\n",
       "      <td>-73.963014</td>\n",
       "      <td>40.670384</td>\n",
       "      <td>-73.978397</td>\n",
       "      <td>1.497586</td>\n",
       "      <td>7.850000</td>\n",
       "      <td>7</td>\n",
       "    </tr>\n",
       "    <tr>\n",
       "      <th>4</th>\n",
       "      <td>63B1D5A7A2316252</td>\n",
       "      <td>classic_bike</td>\n",
       "      <td>2023-05-13 10:23:52</td>\n",
       "      <td>2023-05-13 10:47:17</td>\n",
       "      <td>Flatbush Ave &amp; Ocean Ave</td>\n",
       "      <td>Grand Army Plaza &amp; Plaza St West</td>\n",
       "      <td>member</td>\n",
       "      <td>40.663657</td>\n",
       "      <td>-73.963014</td>\n",
       "      <td>40.672968</td>\n",
       "      <td>-73.970880</td>\n",
       "      <td>1.229639</td>\n",
       "      <td>23.416667</td>\n",
       "      <td>10</td>\n",
       "    </tr>\n",
       "    <tr>\n",
       "      <th>...</th>\n",
       "      <td>...</td>\n",
       "      <td>...</td>\n",
       "      <td>...</td>\n",
       "      <td>...</td>\n",
       "      <td>...</td>\n",
       "      <td>...</td>\n",
       "      <td>...</td>\n",
       "      <td>...</td>\n",
       "      <td>...</td>\n",
       "      <td>...</td>\n",
       "      <td>...</td>\n",
       "      <td>...</td>\n",
       "      <td>...</td>\n",
       "      <td>...</td>\n",
       "    </tr>\n",
       "    <tr>\n",
       "      <th>3580761</th>\n",
       "      <td>BA28157F10FA9C78</td>\n",
       "      <td>classic_bike</td>\n",
       "      <td>2023-05-11 17:37:54</td>\n",
       "      <td>2023-05-11 17:43:33</td>\n",
       "      <td>Lewis Ave &amp; Fulton St</td>\n",
       "      <td>Hancock St &amp; Bedford Ave</td>\n",
       "      <td>member</td>\n",
       "      <td>40.679739</td>\n",
       "      <td>-73.934619</td>\n",
       "      <td>40.682166</td>\n",
       "      <td>-73.953990</td>\n",
       "      <td>1.655644</td>\n",
       "      <td>5.650000</td>\n",
       "      <td>17</td>\n",
       "    </tr>\n",
       "    <tr>\n",
       "      <th>3580762</th>\n",
       "      <td>5FD57F3ED53FDBEB</td>\n",
       "      <td>classic_bike</td>\n",
       "      <td>2023-05-21 12:36:04</td>\n",
       "      <td>2023-05-21 13:19:32</td>\n",
       "      <td>35 Ave &amp; 37 St</td>\n",
       "      <td>5 Ave &amp; E 78 St</td>\n",
       "      <td>member</td>\n",
       "      <td>40.755733</td>\n",
       "      <td>-73.923661</td>\n",
       "      <td>40.776321</td>\n",
       "      <td>-73.964274</td>\n",
       "      <td>4.115773</td>\n",
       "      <td>43.466667</td>\n",
       "      <td>12</td>\n",
       "    </tr>\n",
       "    <tr>\n",
       "      <th>3580763</th>\n",
       "      <td>30CC35A9A433B701</td>\n",
       "      <td>classic_bike</td>\n",
       "      <td>2023-05-08 09:37:54</td>\n",
       "      <td>2023-05-08 10:04:59</td>\n",
       "      <td>Broadway &amp; Berry St</td>\n",
       "      <td>3 St &amp; Prospect Park West</td>\n",
       "      <td>member</td>\n",
       "      <td>40.710425</td>\n",
       "      <td>-73.965394</td>\n",
       "      <td>40.668132</td>\n",
       "      <td>-73.973638</td>\n",
       "      <td>4.753853</td>\n",
       "      <td>27.083333</td>\n",
       "      <td>9</td>\n",
       "    </tr>\n",
       "    <tr>\n",
       "      <th>3580764</th>\n",
       "      <td>2968C17CC49A7187</td>\n",
       "      <td>classic_bike</td>\n",
       "      <td>2023-05-27 19:55:19</td>\n",
       "      <td>2023-05-27 20:00:41</td>\n",
       "      <td>W 55 St &amp; 6 Ave</td>\n",
       "      <td>W 50 St &amp; 9 Ave</td>\n",
       "      <td>member</td>\n",
       "      <td>40.763189</td>\n",
       "      <td>-73.978434</td>\n",
       "      <td>40.763605</td>\n",
       "      <td>-73.989180</td>\n",
       "      <td>0.906177</td>\n",
       "      <td>5.366667</td>\n",
       "      <td>19</td>\n",
       "    </tr>\n",
       "    <tr>\n",
       "      <th>3580765</th>\n",
       "      <td>CD9203C8D4896BA1</td>\n",
       "      <td>classic_bike</td>\n",
       "      <td>2023-05-23 19:08:47</td>\n",
       "      <td>2023-05-23 19:22:59</td>\n",
       "      <td>E 51 St &amp; 2 Ave</td>\n",
       "      <td>E 11 St &amp; 1 Ave</td>\n",
       "      <td>member</td>\n",
       "      <td>40.755293</td>\n",
       "      <td>-73.967641</td>\n",
       "      <td>40.729538</td>\n",
       "      <td>-73.984267</td>\n",
       "      <td>3.187986</td>\n",
       "      <td>14.200000</td>\n",
       "      <td>19</td>\n",
       "    </tr>\n",
       "  </tbody>\n",
       "</table>\n",
       "<p>3391529 rows × 14 columns</p>\n",
       "</div>"
      ],
      "text/plain": [
       "                  ride_id  rideable_type          started_at  \\\n",
       "0        176B188F3289F37B   classic_bike 2023-05-23 19:22:53   \n",
       "1        BB6957A02501C686   classic_bike 2023-05-27 08:49:55   \n",
       "2        C67567E1DAFB9F2C   classic_bike 2023-05-12 20:19:58   \n",
       "3        89DDFCEAE05D043A  electric_bike 2023-05-03 07:59:13   \n",
       "4        63B1D5A7A2316252   classic_bike 2023-05-13 10:23:52   \n",
       "...                   ...            ...                 ...   \n",
       "3580761  BA28157F10FA9C78   classic_bike 2023-05-11 17:37:54   \n",
       "3580762  5FD57F3ED53FDBEB   classic_bike 2023-05-21 12:36:04   \n",
       "3580763  30CC35A9A433B701   classic_bike 2023-05-08 09:37:54   \n",
       "3580764  2968C17CC49A7187   classic_bike 2023-05-27 19:55:19   \n",
       "3580765  CD9203C8D4896BA1   classic_bike 2023-05-23 19:08:47   \n",
       "\n",
       "                   ended_at        start_station_name  \\\n",
       "0       2023-05-23 19:35:23        E 50 St & Park Ave   \n",
       "1       2023-05-27 08:57:42  Flatbush Ave & Ocean Ave   \n",
       "2       2023-05-12 20:36:07  Flatbush Ave & Ocean Ave   \n",
       "3       2023-05-03 08:07:04  Flatbush Ave & Ocean Ave   \n",
       "4       2023-05-13 10:47:17  Flatbush Ave & Ocean Ave   \n",
       "...                     ...                       ...   \n",
       "3580761 2023-05-11 17:43:33     Lewis Ave & Fulton St   \n",
       "3580762 2023-05-21 13:19:32            35 Ave & 37 St   \n",
       "3580763 2023-05-08 10:04:59       Broadway & Berry St   \n",
       "3580764 2023-05-27 20:00:41           W 55 St & 6 Ave   \n",
       "3580765 2023-05-23 19:22:59           E 51 St & 2 Ave   \n",
       "\n",
       "                         end_station_name member_casual  start_lat  start_lng  \\\n",
       "0                         E 74 St & 1 Ave        member  40.757306 -73.974518   \n",
       "1        Grand Army Plaza & Plaza St West        member  40.663657 -73.963014   \n",
       "2                            3 St & 7 Ave        member  40.663657 -73.963014   \n",
       "3                            3 St & 7 Ave        member  40.663657 -73.963014   \n",
       "4        Grand Army Plaza & Plaza St West        member  40.663657 -73.963014   \n",
       "...                                   ...           ...        ...        ...   \n",
       "3580761          Hancock St & Bedford Ave        member  40.679739 -73.934619   \n",
       "3580762                   5 Ave & E 78 St        member  40.755733 -73.923661   \n",
       "3580763         3 St & Prospect Park West        member  40.710425 -73.965394   \n",
       "3580764                   W 50 St & 9 Ave        member  40.763189 -73.978434   \n",
       "3580765                   E 11 St & 1 Ave        member  40.755293 -73.967641   \n",
       "\n",
       "           end_lat    end_lng  distance   duration  hour_of_day  \n",
       "0        40.768974 -73.954823  2.105814  12.500000           19  \n",
       "1        40.672968 -73.970880  1.229639   7.783333            8  \n",
       "2        40.670384 -73.978397  1.497586  16.150000           20  \n",
       "3        40.670384 -73.978397  1.497586   7.850000            7  \n",
       "4        40.672968 -73.970880  1.229639  23.416667           10  \n",
       "...            ...        ...       ...        ...          ...  \n",
       "3580761  40.682166 -73.953990  1.655644   5.650000           17  \n",
       "3580762  40.776321 -73.964274  4.115773  43.466667           12  \n",
       "3580763  40.668132 -73.973638  4.753853  27.083333            9  \n",
       "3580764  40.763605 -73.989180  0.906177   5.366667           19  \n",
       "3580765  40.729538 -73.984267  3.187986  14.200000           19  \n",
       "\n",
       "[3391529 rows x 14 columns]"
      ]
     },
     "execution_count": 153,
     "metadata": {},
     "output_type": "execute_result"
    }
   ],
   "source": [
    "df"
   ]
  },
  {
   "cell_type": "code",
   "execution_count": 169,
   "metadata": {},
   "outputs": [
    {
     "data": {
      "text/plain": [
       "Index(['ride_id', 'rideable_type', 'started_at', 'ended_at',\n",
       "       'start_station_name', 'end_station_name', 'member_casual', 'start_lat',\n",
       "       'start_lng', 'end_lat', 'end_lng', 'distance', 'duration',\n",
       "       'hour_of_day'],\n",
       "      dtype='object')"
      ]
     },
     "execution_count": 169,
     "metadata": {},
     "output_type": "execute_result"
    }
   ],
   "source": [
    "df.columns"
   ]
  },
  {
   "cell_type": "code",
   "execution_count": 186,
   "metadata": {},
   "outputs": [],
   "source": []
  },
  {
   "cell_type": "code",
   "execution_count": 57,
   "metadata": {},
   "outputs": [
    {
     "name": "stdout",
     "output_type": "stream",
     "text": [
      "<class 'pandas.core.frame.DataFrame'>\n",
      "RangeIndex: 3580766 entries, 0 to 3580765\n",
      "Data columns (total 14 columns):\n",
      " #   Column              Dtype         \n",
      "---  ------              -----         \n",
      " 0   ride_id             object        \n",
      " 1   rideable_type       object        \n",
      " 2   started_at          datetime64[ns]\n",
      " 3   ended_at            datetime64[ns]\n",
      " 4   start_station_name  object        \n",
      " 5   start_station_id    object        \n",
      " 6   end_station_name    object        \n",
      " 7   end_station_id      object        \n",
      " 8   start_lat           float64       \n",
      " 9   start_lng           float64       \n",
      " 10  end_lat             float64       \n",
      " 11  end_lng             float64       \n",
      " 12  member_casual       object        \n",
      " 13  duration            float64       \n",
      "dtypes: datetime64[ns](2), float64(5), object(7)\n",
      "memory usage: 382.5+ MB\n"
     ]
    }
   ],
   "source": [
    "df.info()"
   ]
  },
  {
   "cell_type": "code",
   "execution_count": 151,
   "metadata": {},
   "outputs": [
    {
     "data": {
      "text/plain": [
       "0.9494041745433087"
      ]
     },
     "execution_count": 151,
     "metadata": {},
     "output_type": "execute_result"
    }
   ],
   "source": []
  },
  {
   "cell_type": "code",
   "execution_count": 23,
   "metadata": {},
   "outputs": [],
   "source": [
    "# categorical = ['start_station_name', 'end_station_name', 'rideable_type', 'member_casual', 'hour_of_day'] #'start_station_id', 'end_station_id',\n",
    "# numerical = ['trip_distance']\n",
    "# df[categorical] = df[categorical].astype(str)"
   ]
  },
  {
   "cell_type": "code",
   "execution_count": 187,
   "metadata": {},
   "outputs": [],
   "source": [
    "train_dicts = df[categorical+numerical].to_dict(orient='records')"
   ]
  },
  {
   "cell_type": "code",
   "execution_count": 188,
   "metadata": {},
   "outputs": [],
   "source": [
    "train_dicts = df[categorical+numerical].to_dict(orient='records')\n",
    "dv = DictVectorizer()\n",
    "X_train = dv.fit_transform(train_dicts)\n",
    "\n",
    "target = 'duration'\n",
    "\n",
    "y_train=df[target].values"
   ]
  },
  {
   "cell_type": "code",
   "execution_count": 189,
   "metadata": {},
   "outputs": [
    {
     "data": {
      "text/plain": [
       "3838"
      ]
     },
     "execution_count": 189,
     "metadata": {},
     "output_type": "execute_result"
    }
   ],
   "source": [
    "len(dv.feature_names_)"
   ]
  },
  {
   "cell_type": "code",
   "execution_count": 190,
   "metadata": {},
   "outputs": [],
   "source": [
    "target = 'duration'"
   ]
  },
  {
   "cell_type": "code",
   "execution_count": 191,
   "metadata": {},
   "outputs": [],
   "source": [
    "y_train=df[target].values"
   ]
  },
  {
   "cell_type": "code",
   "execution_count": 192,
   "metadata": {},
   "outputs": [
    {
     "data": {
      "text/html": [
       "<style>#sk-container-id-3 {color: black;background-color: white;}#sk-container-id-3 pre{padding: 0;}#sk-container-id-3 div.sk-toggleable {background-color: white;}#sk-container-id-3 label.sk-toggleable__label {cursor: pointer;display: block;width: 100%;margin-bottom: 0;padding: 0.3em;box-sizing: border-box;text-align: center;}#sk-container-id-3 label.sk-toggleable__label-arrow:before {content: \"▸\";float: left;margin-right: 0.25em;color: #696969;}#sk-container-id-3 label.sk-toggleable__label-arrow:hover:before {color: black;}#sk-container-id-3 div.sk-estimator:hover label.sk-toggleable__label-arrow:before {color: black;}#sk-container-id-3 div.sk-toggleable__content {max-height: 0;max-width: 0;overflow: hidden;text-align: left;background-color: #f0f8ff;}#sk-container-id-3 div.sk-toggleable__content pre {margin: 0.2em;color: black;border-radius: 0.25em;background-color: #f0f8ff;}#sk-container-id-3 input.sk-toggleable__control:checked~div.sk-toggleable__content {max-height: 200px;max-width: 100%;overflow: auto;}#sk-container-id-3 input.sk-toggleable__control:checked~label.sk-toggleable__label-arrow:before {content: \"▾\";}#sk-container-id-3 div.sk-estimator input.sk-toggleable__control:checked~label.sk-toggleable__label {background-color: #d4ebff;}#sk-container-id-3 div.sk-label input.sk-toggleable__control:checked~label.sk-toggleable__label {background-color: #d4ebff;}#sk-container-id-3 input.sk-hidden--visually {border: 0;clip: rect(1px 1px 1px 1px);clip: rect(1px, 1px, 1px, 1px);height: 1px;margin: -1px;overflow: hidden;padding: 0;position: absolute;width: 1px;}#sk-container-id-3 div.sk-estimator {font-family: monospace;background-color: #f0f8ff;border: 1px dotted black;border-radius: 0.25em;box-sizing: border-box;margin-bottom: 0.5em;}#sk-container-id-3 div.sk-estimator:hover {background-color: #d4ebff;}#sk-container-id-3 div.sk-parallel-item::after {content: \"\";width: 100%;border-bottom: 1px solid gray;flex-grow: 1;}#sk-container-id-3 div.sk-label:hover label.sk-toggleable__label {background-color: #d4ebff;}#sk-container-id-3 div.sk-serial::before {content: \"\";position: absolute;border-left: 1px solid gray;box-sizing: border-box;top: 0;bottom: 0;left: 50%;z-index: 0;}#sk-container-id-3 div.sk-serial {display: flex;flex-direction: column;align-items: center;background-color: white;padding-right: 0.2em;padding-left: 0.2em;position: relative;}#sk-container-id-3 div.sk-item {position: relative;z-index: 1;}#sk-container-id-3 div.sk-parallel {display: flex;align-items: stretch;justify-content: center;background-color: white;position: relative;}#sk-container-id-3 div.sk-item::before, #sk-container-id-3 div.sk-parallel-item::before {content: \"\";position: absolute;border-left: 1px solid gray;box-sizing: border-box;top: 0;bottom: 0;left: 50%;z-index: -1;}#sk-container-id-3 div.sk-parallel-item {display: flex;flex-direction: column;z-index: 1;position: relative;background-color: white;}#sk-container-id-3 div.sk-parallel-item:first-child::after {align-self: flex-end;width: 50%;}#sk-container-id-3 div.sk-parallel-item:last-child::after {align-self: flex-start;width: 50%;}#sk-container-id-3 div.sk-parallel-item:only-child::after {width: 0;}#sk-container-id-3 div.sk-dashed-wrapped {border: 1px dashed gray;margin: 0 0.4em 0.5em 0.4em;box-sizing: border-box;padding-bottom: 0.4em;background-color: white;}#sk-container-id-3 div.sk-label label {font-family: monospace;font-weight: bold;display: inline-block;line-height: 1.2em;}#sk-container-id-3 div.sk-label-container {text-align: center;}#sk-container-id-3 div.sk-container {/* jupyter's `normalize.less` sets `[hidden] { display: none; }` but bootstrap.min.css set `[hidden] { display: none !important; }` so we also need the `!important` here to be able to override the default hidden behavior on the sphinx rendered scikit-learn.org. See: https://github.com/scikit-learn/scikit-learn/issues/21755 */display: inline-block !important;position: relative;}#sk-container-id-3 div.sk-text-repr-fallback {display: none;}</style><div id=\"sk-container-id-3\" class=\"sk-top-container\"><div class=\"sk-text-repr-fallback\"><pre>LinearRegression()</pre><b>In a Jupyter environment, please rerun this cell to show the HTML representation or trust the notebook. <br />On GitHub, the HTML representation is unable to render, please try loading this page with nbviewer.org.</b></div><div class=\"sk-container\" hidden><div class=\"sk-item\"><div class=\"sk-estimator sk-toggleable\"><input class=\"sk-toggleable__control sk-hidden--visually\" id=\"sk-estimator-id-3\" type=\"checkbox\" checked><label for=\"sk-estimator-id-3\" class=\"sk-toggleable__label sk-toggleable__label-arrow\">LinearRegression</label><div class=\"sk-toggleable__content\"><pre>LinearRegression()</pre></div></div></div></div></div>"
      ],
      "text/plain": [
       "LinearRegression()"
      ]
     },
     "execution_count": 192,
     "metadata": {},
     "output_type": "execute_result"
    }
   ],
   "source": [
    "lr = LinearRegression()\n",
    "lr.fit(X_train, y_train)"
   ]
  },
  {
   "cell_type": "code",
   "execution_count": 199,
   "metadata": {},
   "outputs": [
    {
     "data": {
      "text/html": [
       "<style>#sk-container-id-5 {color: black;background-color: white;}#sk-container-id-5 pre{padding: 0;}#sk-container-id-5 div.sk-toggleable {background-color: white;}#sk-container-id-5 label.sk-toggleable__label {cursor: pointer;display: block;width: 100%;margin-bottom: 0;padding: 0.3em;box-sizing: border-box;text-align: center;}#sk-container-id-5 label.sk-toggleable__label-arrow:before {content: \"▸\";float: left;margin-right: 0.25em;color: #696969;}#sk-container-id-5 label.sk-toggleable__label-arrow:hover:before {color: black;}#sk-container-id-5 div.sk-estimator:hover label.sk-toggleable__label-arrow:before {color: black;}#sk-container-id-5 div.sk-toggleable__content {max-height: 0;max-width: 0;overflow: hidden;text-align: left;background-color: #f0f8ff;}#sk-container-id-5 div.sk-toggleable__content pre {margin: 0.2em;color: black;border-radius: 0.25em;background-color: #f0f8ff;}#sk-container-id-5 input.sk-toggleable__control:checked~div.sk-toggleable__content {max-height: 200px;max-width: 100%;overflow: auto;}#sk-container-id-5 input.sk-toggleable__control:checked~label.sk-toggleable__label-arrow:before {content: \"▾\";}#sk-container-id-5 div.sk-estimator input.sk-toggleable__control:checked~label.sk-toggleable__label {background-color: #d4ebff;}#sk-container-id-5 div.sk-label input.sk-toggleable__control:checked~label.sk-toggleable__label {background-color: #d4ebff;}#sk-container-id-5 input.sk-hidden--visually {border: 0;clip: rect(1px 1px 1px 1px);clip: rect(1px, 1px, 1px, 1px);height: 1px;margin: -1px;overflow: hidden;padding: 0;position: absolute;width: 1px;}#sk-container-id-5 div.sk-estimator {font-family: monospace;background-color: #f0f8ff;border: 1px dotted black;border-radius: 0.25em;box-sizing: border-box;margin-bottom: 0.5em;}#sk-container-id-5 div.sk-estimator:hover {background-color: #d4ebff;}#sk-container-id-5 div.sk-parallel-item::after {content: \"\";width: 100%;border-bottom: 1px solid gray;flex-grow: 1;}#sk-container-id-5 div.sk-label:hover label.sk-toggleable__label {background-color: #d4ebff;}#sk-container-id-5 div.sk-serial::before {content: \"\";position: absolute;border-left: 1px solid gray;box-sizing: border-box;top: 0;bottom: 0;left: 50%;z-index: 0;}#sk-container-id-5 div.sk-serial {display: flex;flex-direction: column;align-items: center;background-color: white;padding-right: 0.2em;padding-left: 0.2em;position: relative;}#sk-container-id-5 div.sk-item {position: relative;z-index: 1;}#sk-container-id-5 div.sk-parallel {display: flex;align-items: stretch;justify-content: center;background-color: white;position: relative;}#sk-container-id-5 div.sk-item::before, #sk-container-id-5 div.sk-parallel-item::before {content: \"\";position: absolute;border-left: 1px solid gray;box-sizing: border-box;top: 0;bottom: 0;left: 50%;z-index: -1;}#sk-container-id-5 div.sk-parallel-item {display: flex;flex-direction: column;z-index: 1;position: relative;background-color: white;}#sk-container-id-5 div.sk-parallel-item:first-child::after {align-self: flex-end;width: 50%;}#sk-container-id-5 div.sk-parallel-item:last-child::after {align-self: flex-start;width: 50%;}#sk-container-id-5 div.sk-parallel-item:only-child::after {width: 0;}#sk-container-id-5 div.sk-dashed-wrapped {border: 1px dashed gray;margin: 0 0.4em 0.5em 0.4em;box-sizing: border-box;padding-bottom: 0.4em;background-color: white;}#sk-container-id-5 div.sk-label label {font-family: monospace;font-weight: bold;display: inline-block;line-height: 1.2em;}#sk-container-id-5 div.sk-label-container {text-align: center;}#sk-container-id-5 div.sk-container {/* jupyter's `normalize.less` sets `[hidden] { display: none; }` but bootstrap.min.css set `[hidden] { display: none !important; }` so we also need the `!important` here to be able to override the default hidden behavior on the sphinx rendered scikit-learn.org. See: https://github.com/scikit-learn/scikit-learn/issues/21755 */display: inline-block !important;position: relative;}#sk-container-id-5 div.sk-text-repr-fallback {display: none;}</style><div id=\"sk-container-id-5\" class=\"sk-top-container\"><div class=\"sk-text-repr-fallback\"><pre>Lasso(alpha=0.1)</pre><b>In a Jupyter environment, please rerun this cell to show the HTML representation or trust the notebook. <br />On GitHub, the HTML representation is unable to render, please try loading this page with nbviewer.org.</b></div><div class=\"sk-container\" hidden><div class=\"sk-item\"><div class=\"sk-estimator sk-toggleable\"><input class=\"sk-toggleable__control sk-hidden--visually\" id=\"sk-estimator-id-5\" type=\"checkbox\" checked><label for=\"sk-estimator-id-5\" class=\"sk-toggleable__label sk-toggleable__label-arrow\">Lasso</label><div class=\"sk-toggleable__content\"><pre>Lasso(alpha=0.1)</pre></div></div></div></div></div>"
      ],
      "text/plain": [
       "Lasso(alpha=0.1)"
      ]
     },
     "execution_count": 199,
     "metadata": {},
     "output_type": "execute_result"
    }
   ],
   "source": [
    "lr = Lasso(0.1)\n",
    "lr.fit(X_train, y_train)"
   ]
  },
  {
   "cell_type": "code",
   "execution_count": 200,
   "metadata": {},
   "outputs": [],
   "source": [
    "y_pred = lr.predict(X_train)"
   ]
  },
  {
   "cell_type": "code",
   "execution_count": 167,
   "metadata": {},
   "outputs": [
    {
     "name": "stderr",
     "output_type": "stream",
     "text": [
      "/tmp/ipykernel_63030/1672306066.py:1: UserWarning: \n",
      "\n",
      "`distplot` is a deprecated function and will be removed in seaborn v0.14.0.\n",
      "\n",
      "Please adapt your code to use either `displot` (a figure-level function with\n",
      "similar flexibility) or `histplot` (an axes-level function for histograms).\n",
      "\n",
      "For a guide to updating your code to use the new functions, please see\n",
      "https://gist.github.com/mwaskom/de44147ed2974457ad6372750bbe5751\n",
      "\n",
      "  sns.distplot(y_pred, label='prediction')\n"
     ]
    },
    {
     "name": "stderr",
     "output_type": "stream",
     "text": [
      "/tmp/ipykernel_63030/1672306066.py:2: UserWarning: \n",
      "\n",
      "`distplot` is a deprecated function and will be removed in seaborn v0.14.0.\n",
      "\n",
      "Please adapt your code to use either `displot` (a figure-level function with\n",
      "similar flexibility) or `histplot` (an axes-level function for histograms).\n",
      "\n",
      "For a guide to updating your code to use the new functions, please see\n",
      "https://gist.github.com/mwaskom/de44147ed2974457ad6372750bbe5751\n",
      "\n",
      "  sns.distplot(y_train, label='actual')\n"
     ]
    },
    {
     "data": {
      "text/plain": [
       "<matplotlib.legend.Legend at 0x7f2936a86860>"
      ]
     },
     "execution_count": 167,
     "metadata": {},
     "output_type": "execute_result"
    },
    {
     "data": {
      "image/png": "[encoded data removed]",
      "text/plain": [
       "<Figure size 640x480 with 1 Axes>"
      ]
     },
     "metadata": {},
     "output_type": "display_data"
    }
   ],
   "source": [
    "sns.distplot(y_pred, label='prediction')\n",
    "sns.distplot(y_train, label='actual')\n",
    "\n",
    "plt.legend()"
   ]
  },
  {
   "cell_type": "code",
   "execution_count": 201,
   "metadata": {},
   "outputs": [
    {
     "data": {
      "text/plain": [
       "8.32"
      ]
     },
     "execution_count": 201,
     "metadata": {},
     "output_type": "execute_result"
    }
   ],
   "source": [
    "mean_squared_error(y_train, y_pred, squared=False).round(2)"
   ]
  },
  {
   "cell_type": "code",
   "execution_count": 86,
   "metadata": {},
   "outputs": [
    {
     "data": {
      "text/html": [
       "<div>\n",
       "<style scoped>\n",
       "    .dataframe tbody tr th:only-of-type {\n",
       "        vertical-align: middle;\n",
       "    }\n",
       "\n",
       "    .dataframe tbody tr th {\n",
       "        vertical-align: top;\n",
       "    }\n",
       "\n",
       "    .dataframe thead th {\n",
       "        text-align: right;\n",
       "    }\n",
       "</style>\n",
       "<table border=\"1\" class=\"dataframe\">\n",
       "  <thead>\n",
       "    <tr style=\"text-align: right;\">\n",
       "      <th></th>\n",
       "      <th>ride_id</th>\n",
       "      <th>rideable_type</th>\n",
       "      <th>started_at</th>\n",
       "      <th>ended_at</th>\n",
       "      <th>start_station_name</th>\n",
       "      <th>start_station_id</th>\n",
       "      <th>end_station_name</th>\n",
       "      <th>end_station_id</th>\n",
       "      <th>start_lat</th>\n",
       "      <th>start_lng</th>\n",
       "      <th>end_lat</th>\n",
       "      <th>end_lng</th>\n",
       "      <th>member_casual</th>\n",
       "      <th>duration</th>\n",
       "      <th>hour_of_day</th>\n",
       "    </tr>\n",
       "  </thead>\n",
       "  <tbody>\n",
       "    <tr>\n",
       "      <th>0</th>\n",
       "      <td>176B188F3289F37B</td>\n",
       "      <td>classic_bike</td>\n",
       "      <td>2023-05-23 19:22:53</td>\n",
       "      <td>2023-05-23 19:35:23</td>\n",
       "      <td>E 50 St &amp; Park Ave</td>\n",
       "      <td>6659.10</td>\n",
       "      <td>E 74 St &amp; 1 Ave</td>\n",
       "      <td>6953.08</td>\n",
       "      <td>40.757306</td>\n",
       "      <td>-73.974518</td>\n",
       "      <td>40.768974</td>\n",
       "      <td>-73.954823</td>\n",
       "      <td>member</td>\n",
       "      <td>12.500000</td>\n",
       "      <td>19</td>\n",
       "    </tr>\n",
       "    <tr>\n",
       "      <th>1</th>\n",
       "      <td>BB6957A02501C686</td>\n",
       "      <td>classic_bike</td>\n",
       "      <td>2023-05-27 08:49:55</td>\n",
       "      <td>2023-05-27 08:57:42</td>\n",
       "      <td>Flatbush Ave &amp; Ocean Ave</td>\n",
       "      <td>3704.04</td>\n",
       "      <td>Grand Army Plaza &amp; Plaza St West</td>\n",
       "      <td>4010.15</td>\n",
       "      <td>40.663657</td>\n",
       "      <td>-73.963014</td>\n",
       "      <td>40.672968</td>\n",
       "      <td>-73.970880</td>\n",
       "      <td>member</td>\n",
       "      <td>7.783333</td>\n",
       "      <td>8</td>\n",
       "    </tr>\n",
       "    <tr>\n",
       "      <th>2</th>\n",
       "      <td>C67567E1DAFB9F2C</td>\n",
       "      <td>classic_bike</td>\n",
       "      <td>2023-05-12 20:19:58</td>\n",
       "      <td>2023-05-12 20:36:07</td>\n",
       "      <td>Flatbush Ave &amp; Ocean Ave</td>\n",
       "      <td>3704.04</td>\n",
       "      <td>3 St &amp; 7 Ave</td>\n",
       "      <td>3905.15</td>\n",
       "      <td>40.663657</td>\n",
       "      <td>-73.963014</td>\n",
       "      <td>40.670384</td>\n",
       "      <td>-73.978397</td>\n",
       "      <td>member</td>\n",
       "      <td>16.150000</td>\n",
       "      <td>20</td>\n",
       "    </tr>\n",
       "    <tr>\n",
       "      <th>3</th>\n",
       "      <td>89DDFCEAE05D043A</td>\n",
       "      <td>electric_bike</td>\n",
       "      <td>2023-05-03 07:59:13</td>\n",
       "      <td>2023-05-03 08:07:04</td>\n",
       "      <td>Flatbush Ave &amp; Ocean Ave</td>\n",
       "      <td>3704.04</td>\n",
       "      <td>3 St &amp; 7 Ave</td>\n",
       "      <td>3905.15</td>\n",
       "      <td>40.663657</td>\n",
       "      <td>-73.963014</td>\n",
       "      <td>40.670384</td>\n",
       "      <td>-73.978397</td>\n",
       "      <td>member</td>\n",
       "      <td>7.850000</td>\n",
       "      <td>7</td>\n",
       "    </tr>\n",
       "    <tr>\n",
       "      <th>4</th>\n",
       "      <td>63B1D5A7A2316252</td>\n",
       "      <td>classic_bike</td>\n",
       "      <td>2023-05-13 10:23:52</td>\n",
       "      <td>2023-05-13 10:47:17</td>\n",
       "      <td>Flatbush Ave &amp; Ocean Ave</td>\n",
       "      <td>3704.04</td>\n",
       "      <td>Grand Army Plaza &amp; Plaza St West</td>\n",
       "      <td>4010.15</td>\n",
       "      <td>40.663657</td>\n",
       "      <td>-73.963014</td>\n",
       "      <td>40.672968</td>\n",
       "      <td>-73.970880</td>\n",
       "      <td>member</td>\n",
       "      <td>23.416667</td>\n",
       "      <td>10</td>\n",
       "    </tr>\n",
       "  </tbody>\n",
       "</table>\n",
       "</div>"
      ],
      "text/plain": [
       "            ride_id  rideable_type          started_at            ended_at  \\\n",
       "0  176B188F3289F37B   classic_bike 2023-05-23 19:22:53 2023-05-23 19:35:23   \n",
       "1  BB6957A02501C686   classic_bike 2023-05-27 08:49:55 2023-05-27 08:57:42   \n",
       "2  C67567E1DAFB9F2C   classic_bike 2023-05-12 20:19:58 2023-05-12 20:36:07   \n",
       "3  89DDFCEAE05D043A  electric_bike 2023-05-03 07:59:13 2023-05-03 08:07:04   \n",
       "4  63B1D5A7A2316252   classic_bike 2023-05-13 10:23:52 2023-05-13 10:47:17   \n",
       "\n",
       "         start_station_name start_station_id  \\\n",
       "0        E 50 St & Park Ave          6659.10   \n",
       "1  Flatbush Ave & Ocean Ave          3704.04   \n",
       "2  Flatbush Ave & Ocean Ave          3704.04   \n",
       "3  Flatbush Ave & Ocean Ave          3704.04   \n",
       "4  Flatbush Ave & Ocean Ave          3704.04   \n",
       "\n",
       "                   end_station_name end_station_id  start_lat  start_lng  \\\n",
       "0                   E 74 St & 1 Ave        6953.08  40.757306 -73.974518   \n",
       "1  Grand Army Plaza & Plaza St West        4010.15  40.663657 -73.963014   \n",
       "2                      3 St & 7 Ave        3905.15  40.663657 -73.963014   \n",
       "3                      3 St & 7 Ave        3905.15  40.663657 -73.963014   \n",
       "4  Grand Army Plaza & Plaza St West        4010.15  40.663657 -73.963014   \n",
       "\n",
       "     end_lat    end_lng member_casual   duration hour_of_day  \n",
       "0  40.768974 -73.954823        member  12.500000          19  \n",
       "1  40.672968 -73.970880        member   7.783333           8  \n",
       "2  40.670384 -73.978397        member  16.150000          20  \n",
       "3  40.670384 -73.978397        member   7.850000           7  \n",
       "4  40.672968 -73.970880        member  23.416667          10  "
      ]
     },
     "execution_count": 86,
     "metadata": {},
     "output_type": "execute_result"
    }
   ],
   "source": [
    "df.head()"
   ]
  },
  {
   "cell_type": "code",
   "execution_count": 87,
   "metadata": {},
   "outputs": [
    {
     "name": "stdout",
     "output_type": "stream",
     "text": [
      "<class 'pandas.core.frame.DataFrame'>\n",
      "Int64Index: 3393303 entries, 0 to 3580765\n",
      "Data columns (total 15 columns):\n",
      " #   Column              Dtype         \n",
      "---  ------              -----         \n",
      " 0   ride_id             object        \n",
      " 1   rideable_type       object        \n",
      " 2   started_at          datetime64[ns]\n",
      " 3   ended_at            datetime64[ns]\n",
      " 4   start_station_name  object        \n",
      " 5   start_station_id    object        \n",
      " 6   end_station_name    object        \n",
      " 7   end_station_id      object        \n",
      " 8   start_lat           float64       \n",
      " 9   start_lng           float64       \n",
      " 10  end_lat             float64       \n",
      " 11  end_lng             float64       \n",
      " 12  member_casual       object        \n",
      " 13  duration            float64       \n",
      " 14  hour_of_day         object        \n",
      "dtypes: datetime64[ns](2), float64(5), object(8)\n",
      "memory usage: 414.2+ MB\n"
     ]
    }
   ],
   "source": [
    "df.info()"
   ]
  },
  {
   "cell_type": "code",
   "execution_count": 88,
   "metadata": {},
   "outputs": [
    {
     "data": {
      "text/plain": [
       "(3393303, 15)"
      ]
     },
     "execution_count": 88,
     "metadata": {},
     "output_type": "execute_result"
    }
   ],
   "source": [
    "df.shape"
   ]
  },
  {
   "cell_type": "code",
   "execution_count": null,
   "metadata": {},
   "outputs": [],
   "source": []
  }
 ],
 "metadata": {
  "kernelspec": {
   "display_name": "base",
   "language": "python",
   "name": "python3"
  },
  "language_info": {
   "codemirror_mode": {
    "name": "ipython",
    "version": 3
   },
   "file_extension": ".py",
   "mimetype": "text/x-python",
   "name": "python",
   "nbconvert_exporter": "python",
   "pygments_lexer": "ipython3",
   "version": "3.10.9"
  },
  "orig_nbformat": 4
 },
 "nbformat": 4,
 "nbformat_minor": 2
}
